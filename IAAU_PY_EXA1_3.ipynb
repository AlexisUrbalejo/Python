{
  "nbformat": 4,
  "nbformat_minor": 0,
  "metadata": {
    "colab": {
      "provenance": [],
      "authorship_tag": "ABX9TyN8EpzS5Kk3FvzDMRjFG872",
      "include_colab_link": true
    },
    "kernelspec": {
      "name": "python3",
      "display_name": "Python 3"
    },
    "language_info": {
      "name": "python"
    }
  },
  "cells": [
    {
      "cell_type": "markdown",
      "metadata": {
        "id": "view-in-github",
        "colab_type": "text"
      },
      "source": [
        "<a href=\"https://colab.research.google.com/github/AlexisUrbalejo/Python/blob/main/IAAU_PY_EXA1_3.ipynb\" target=\"_parent\"><img src=\"https://colab.research.google.com/assets/colab-badge.svg\" alt=\"Open In Colab\"/></a>"
      ]
    },
    {
      "cell_type": "code",
      "execution_count": 14,
      "metadata": {
        "colab": {
          "base_uri": "https://localhost:8080/"
        },
        "id": "gZEdXpNR1k5P",
        "outputId": "4e0eb841-ce9f-4b48-8186-d39573ddcd7d"
      },
      "outputs": [
        {
          "output_type": "stream",
          "name": "stdout",
          "text": [
            "ingeresa el valor de la base:  10\n",
            "ingeresa el valor de la altura: 50\n",
            "El area de la base es : 250.0\n"
          ]
        }
      ],
      "source": [
        "def area():\n",
        "  try:\n",
        "        base =int(input(\"ingeresa el valor de la base:  \"))\n",
        "        altura =int(input(\"ingeresa el valor de la altura: \"))\n",
        "        area = (base*altura)/2\n",
        "        print(f\"El area de la base es : {area}\")\n",
        "  except:\n",
        "    print(\"ERROR: El valor ingresado debe de ser un numero\")\n",
        "area()"
      ]
    }
  ]
}
{
  "nbformat": 4,
  "nbformat_minor": 0,
  "metadata": {
    "colab": {
      "provenance": [],
      "authorship_tag": "ABX9TyPDhNwsKEP8YYKvPaSgEz0m",
      "include_colab_link": true
    },
    "kernelspec": {
      "name": "python3",
      "display_name": "Python 3"
    },
    "language_info": {
      "name": "python"
    }
  },
  "cells": [
    {
      "cell_type": "markdown",
      "metadata": {
        "id": "view-in-github",
        "colab_type": "text"
      },
      "source": [
        "<a href=\"https://colab.research.google.com/github/AlexisUrbalejo/Python/blob/main/IAAU_PY_ACT3.ipynb\" target=\"_parent\"><img src=\"https://colab.research.google.com/assets/colab-badge.svg\" alt=\"Open In Colab\"/></a>"
      ]
    },
    {
      "cell_type": "markdown",
      "source": [
        "1.- Algoritmo que lea 3 calificaciones calcule el promedio del alumno y desplegar: \n",
        "\n",
        "Si prom < 30 Repetir \n",
        "\n",
        "Si prom >=30 y prom <60 extraordinario \n",
        "\n",
        "Si prom >=60 y prom <70 suficiente \n",
        "\n",
        "Si prom >=70 y prom <80 Regular \n",
        "\n",
        "Si prom >=80 y prom <90 bien \n",
        "\n",
        "Si prom >=90 y prom <98 muy bien\n",
        "\n",
        "Si prom >=98 y prom <=100 excelente \n",
        "\n",
        "Si prom >100 Error en promedio "
      ],
      "metadata": {
        "id": "z_79-zJwLYbm"
      }
    },
    {
      "cell_type": "code",
      "source": [
        "cal1=float(input(\"Ingresa la primer calificacion: \"))\n",
        "cal2=float(input(\"Ingresa la segunda calificacion: \"))\n",
        "cal3=float(input(\"Ingresa la tercer calificacion: \"))\n",
        "prom=(cal1+cal2+cal3)/3\n",
        "print(f\"Tu promedio es de: {prom}\")\n",
        "\n",
        "if prom>=80:\n",
        "  if prom>=98:\n",
        "    if prom>100:\n",
        "        print (\"Error en el promedio\")\n",
        "    else:\n",
        "        print(\"Excelente\")\n",
        "  else:\n",
        "      if prom>=90:\n",
        "        print(\"Muy bien\")\n",
        "      else:\n",
        "        print(\"Bien\")\n",
        "else:\n",
        "  if prom>=60:\n",
        "    if prom>=70:\n",
        "      print(\"Regular\")\n",
        "    else:\n",
        "      print(\"Suficiente\")\n",
        "  else:\n",
        "    if prom>=30:\n",
        "      print(\"Extraordinario\")\n",
        "    else:\n",
        "      print(\"Repetir\")"
      ],
      "metadata": {
        "colab": {
          "base_uri": "https://localhost:8080/"
        },
        "id": "4mGd1rZ4LZuA",
        "outputId": "5681c2a6-aad4-4caf-c321-1aeba3db2973"
      },
      "execution_count": 31,
      "outputs": [
        {
          "output_type": "stream",
          "name": "stdout",
          "text": [
            "Ingresa la primer calificacion: 80\n",
            "Ingresa la segunda calificacion: 50\n",
            "Ingresa la tercer calificacion: 90\n",
            "Tu promedio es de: 73.33333333333333\n",
            "Regular\n"
          ]
        }
      ]
    },
    {
      "cell_type": "markdown",
      "source": [
        "2.- Algoritmo que sirva para calcular el salario semanal de un trabajador donde se obtiene como dato de entrada las horas semanales trabajadas, el salario por hora. \n",
        "\n",
        "El programa deberá calcular el salario normal, salario extra y salario total, considerando lo siguiente: \n",
        "\n",
        "Jornada Normal de 40 horas. \n",
        "El salario normal se considera las horas trabajadas menores o igual a la jornada normal\n",
        "Salario extra se considera las horas trabajadas mayores a la jornada normal y se pagan dobles las primeras 9 y triples a partir de la décima hora extra "
      ],
      "metadata": {
        "id": "khQ9ROJ5Vesh"
      }
    },
    {
      "cell_type": "code",
      "source": [
        "horas = int(input(\"Ingresa las horas que trabajaste en la semana: \"))\n",
        "salario_hora = float(input(\"Ingresa tu salario por hora: \"))\n",
        "if horas > 40:\n",
        "    if horas > 49:\n",
        "        salario_norm =  (salario_hora * 40)\n",
        "        salario_ext = ((salario_hora * 2)*9) + (salario_hora * 3 ) * (horas - 49)\n",
        "    else:\n",
        "        salario_norm = (salario_hora * 40)\n",
        "        salario_ext = ((salario_hora * 2) * (horas-40))\n",
        "else:\n",
        "    salario_norm = (salario_hora * horas)\n",
        "    salario_ext = 0\n",
        "salario_total = salario_norm + salario_ext\n",
        "print(f\"Salario por hora: {salario_hora}\")\n",
        "print(f\"Horas trabajas: {horas}\")\n",
        "print(f\"Salario normal: {salario_norm}\")\n",
        "print(f\"Salario extra: {salario_ext}\")\n",
        "print(f\"Salario total: {salario_total}\")\n"
      ],
      "metadata": {
        "colab": {
          "base_uri": "https://localhost:8080/"
        },
        "id": "QHtHmmcGVlEp",
        "outputId": "bfbc7eac-913f-4965-e5f3-75189724819a"
      },
      "execution_count": 33,
      "outputs": [
        {
          "output_type": "stream",
          "name": "stdout",
          "text": [
            "Ingresa las horas que trabajaste en la semana: 55\n",
            "Ingresa tu salario por hora: 45\n",
            "Salario por hora: 45.0\n",
            "Horas trabajas: 55\n",
            "Salario normal: 1800.0\n",
            "Salario extra: 1620.0\n",
            "Salario total: 3420.0\n"
          ]
        }
      ]
    },
    {
      "cell_type": "markdown",
      "source": [
        " 3.- Algoritmo que sirva para desplegar el Total de una llamada telefónica donde se pide como datos de entrada los minutos y el tipo de llamada, se cobra de la siguiente manera:\n",
        "\n",
        "1.- Llamada Local $3.00 sin límite de tiempo \n",
        "\n",
        "2.- Llamada Nacional $7.00 por los 3 primeros minutos y $2.00 minuto adicional \n",
        "\n",
        "3.- Llamada Internacional $9.00 por los 2 primeros minutos y $4.00 minuto adicional\n",
        "\n",
        " Desplegar, Subtotal,Iva (16%) y Total. "
      ],
      "metadata": {
        "id": "9CSGvxldIrr4"
      }
    },
    {
      "cell_type": "code",
      "source": [
        "print(\"1 Local\")\n",
        "print(\"2 Nacional\")\n",
        "print(\"3 Internacional\")\n",
        "llamada = int(input(\"Ingresa el tipo de llamda que se va a realizar (1.2 o 3): \"))\n",
        "minutos = int(input(\"Ingresa el tiempo de duracion de la llamada: \"))\n",
        "\n",
        "if llamada == 1:\n",
        "    subtotal = minutos * 3\n",
        "else:\n",
        "    if llamada == 2:\n",
        "      if minutos > 3:\n",
        "        subtotal = (7*3)+((minutos-3)*2)\n",
        "      else:\n",
        "        subtotal= minutos*7\n",
        "    else:\n",
        "      if llamada == 3:\n",
        "          if minutos > 2:\n",
        "              subtotal = (9*2) + ((minutos-2)*4)\n",
        "          else:\n",
        "             subtotal = minutos * 9\n",
        "      else:\n",
        "        print(\"El tipo de llamda es incorrecto\")\n",
        "iva = subtotal * 0.16\n",
        "total = subtotal + iva\n",
        "print(f\"El subtotal es de: {subtotal}\")\n",
        "print(f\"El iva es de: {iva}\")\n",
        "print(f\"El total es de: {total}\")\n"
      ],
      "metadata": {
        "colab": {
          "base_uri": "https://localhost:8080/"
        },
        "id": "9K_P4tU1IyCe",
        "outputId": "8ba10a99-22fb-40db-f26f-efdb20bec5f8"
      },
      "execution_count": 10,
      "outputs": [
        {
          "output_type": "stream",
          "name": "stdout",
          "text": [
            "1 Local\n",
            "2 Nacional\n",
            "3 Internacional\n",
            "Ingresa el tipo de llamda que se va a realizar (1.2 o 3): 1\n",
            "Ingresa el tiempo de duracion de la llamada: 3\n",
            "El subtotal es de: 9\n",
            "El iva es de: 1.44\n",
            "El total es de: 10.44\n"
          ]
        }
      ]
    },
    {
      "cell_type": "markdown",
      "source": [
        "4.- Algoritmo que sirva para calcular el Total a pagar por consumo de agua, donde el dato de entrada son los M3 de agua consumidos, Tomar en cuenta que se cobra escalonada de la Siguiente manera: \n",
        "\n",
        "Rango1: 0 al 4 M3 $50 x facturación sin importar cuánto consumió en este rango \n",
        "\n",
        "Rango2: 5 a 15 M3 $8.00 x M3 \n",
        "\n",
        "Rango3: 16 a 50 M3 $10.00 x M3 \n",
        "\n",
        "Rango4: 51 M3 en adelante $11.00 x M3 \n",
        "\n",
        "Nota: Desplegar SubTotal, Iva(16%), y Total a pagar."
      ],
      "metadata": {
        "id": "bBSJlURxOw6N"
      }
    },
    {
      "cell_type": "code",
      "source": [
        "m3 = float(input(\"Ingresa los M3 de agua consumidos: \"))\n",
        "\n",
        "if m3 >=16:\n",
        "    if m3 >50:\n",
        "        extra= (m3-50)\n",
        "        subtotal =(50) + (8*11) + (35*10) + (extra*11)\n",
        "    else:\n",
        "        extra = m3-15\n",
        "        subtotal = (50) + (8*11) + (extra*10)\n",
        "else:\n",
        "    if m3 >= 5:\n",
        "      extra = m3 - 4\n",
        "      subtotal = (50) + (extra*8)\n",
        "    else:\n",
        "        subtotal =50\n",
        "iva = subtotal * 0.16\n",
        "total = subtotal + iva\n",
        "print(f\"El subtotal es de: {subtotal} pesos\")\n",
        "print(f\"El iva es de: {iva} pesos\")\n",
        "print(f\"El total es de: {total} pesos\")"
      ],
      "metadata": {
        "colab": {
          "base_uri": "https://localhost:8080/"
        },
        "id": "GXCBwoH7O099",
        "outputId": "c05fa5a7-1df9-4903-dc8d-04ff2de4d6f5"
      },
      "execution_count": 35,
      "outputs": [
        {
          "output_type": "stream",
          "name": "stdout",
          "text": [
            "Ingresa los M3 de agua consumidos: 55\n",
            "El subtotal es de: 543.0 pesos\n",
            "El iva es de: 86.88 pesos\n",
            "El total es de: 629.88 pesos\n"
          ]
        }
      ]
    },
    {
      "cell_type": "markdown",
      "source": [
        "En la materia de Metodología de la programación se aplican 5 exámenes, calcular el promedio final de la materia donde la calificación menor de los exámenes se anula y el promedio se calcula en base a 4 exámenes."
      ],
      "metadata": {
        "id": "yW3gtDmGUKws"
      }
    },
    {
      "cell_type": "code",
      "source": [
        "exa1 = float(input(\"Ingresa la calificacion del primer examen: \"))\n",
        "exa2 = float(input(\"Ingresa la calificacion del segundo examen: \"))\n",
        "exa3 = float(input(\"Ingresa la calificacion del tercer examen: \"))\n",
        "exa4 = float(input(\"Ingresa la calificacion del cuarto examen: \"))\n",
        "exa5 = float(input(\"Ingresa la calificacion del quinto examen: \"))\n",
        "\n",
        "menor = exa1\n",
        "if exa2 < menor:\n",
        "    menor = exa2\n",
        "if exa3 < menor:\n",
        "    menor = exa3\n",
        "if exa4 < menor:\n",
        "    menor = exa4\n",
        "if exa5 < menor:\n",
        "    menor = exa5\n",
        "prom = (exa1 + exa2 + exa3 + exa4 + exa5 - menor)/4\n",
        "print(f\"El promedio es de: {prom}\")\n",
        "\n"
      ],
      "metadata": {
        "colab": {
          "base_uri": "https://localhost:8080/"
        },
        "id": "w9uo-s_7USye",
        "outputId": "53664c81-b85d-4810-f81e-3a593586dd7f"
      },
      "execution_count": 37,
      "outputs": [
        {
          "output_type": "stream",
          "name": "stdout",
          "text": [
            "Ingresa la calificacion del primer examen: 50\n",
            "Ingresa la calificacion del segundo examen: 40\n",
            "Ingresa la calificacion del tercer examen: 85\n",
            "Ingresa la calificacion del cuarto examen: 90\n",
            "Ingresa la calificacion del quinto examen: 98\n",
            "El promedio es de: 80.75\n"
          ]
        }
      ]
    },
    {
      "cell_type": "markdown",
      "source": [
        "6.- Algoritmo que sirva para el juego del CHINCHAMPU (Piedra, Papel, Tijera) para 1 jugador y la computadora, (usar condición anidada) "
      ],
      "metadata": {
        "id": "MiWtsz_3YonF"
      }
    },
    {
      "cell_type": "code",
      "source": [
        "import random \n",
        "print(\"1 Piedra\")\n",
        "print(\"2 Papel\")\n",
        "print(\"3 Tijera\") \n",
        "jugador = int(input(\"Elige la opcion deseada (1 2 o 3): \"))\n",
        "compu = random.randint(1, 3)\n",
        "if compu == 1:\n",
        "    print(\"La computadora ha elegido PIEDRA\")\n",
        "else:\n",
        "    if compu == 2:\n",
        "      print(\"La computadora ha elegido PAPEL\")\n",
        "    else:\n",
        "      print(\"La computadora ha elegido TIJERAS\")\n",
        "\n",
        "if jugador == 1:\n",
        "  if compu == 1:\n",
        "      print(\"Empate\")\n",
        "  else:\n",
        "    if compu == 2:\n",
        "        print(\"Perdiste\")\n",
        "    else:\n",
        "        print(\"Ganaste\")\n",
        "else:\n",
        "  if jugador == 2:\n",
        "    if compu == 1:\n",
        "        print(\"Ganaste\")\n",
        "    else:\n",
        "      if compu == 2:\n",
        "          print(\"Empate\")\n",
        "      else:\n",
        "          print(\"Perdiste\")\n",
        "  else:\n",
        "    if jugador == 3:\n",
        "      if compu == 1:\n",
        "          print(\" Perdiste\")\n",
        "      else:\n",
        "          if compu == 2:\n",
        "            print(\"Ganaste\")\n",
        "          else:\n",
        "            print(\"Empate\")\n",
        "    else:\n",
        "      print(\"Ingresa uno de los valores indicados\")\n",
        "\n"
      ],
      "metadata": {
        "colab": {
          "base_uri": "https://localhost:8080/"
        },
        "id": "BrCY4jL_Ys79",
        "outputId": "ef023446-fcf9-47fa-8337-9b28777a6cc7"
      },
      "execution_count": 26,
      "outputs": [
        {
          "output_type": "stream",
          "name": "stdout",
          "text": [
            "1 Piedra\n",
            "2 Papel\n",
            "3 Tijera\n",
            "Elige la opcion deseada (1 2 o 3): 2\n",
            "La computadora ha elegido TIJERAS\n",
            "Perdiste\n"
          ]
        }
      ]
    },
    {
      "cell_type": "markdown",
      "source": [
        "7.- Algoritmo que sirva para el juego del CHINCHAMPU (Piedra, Papel, Tijera) para 1 jugador y la computadora, (usar selección múltiple) "
      ],
      "metadata": {
        "id": "2ZDzT9P5hlX7"
      }
    },
    {
      "cell_type": "code",
      "source": [
        "import random \n",
        "print(\"1 Piedra\")\n",
        "print(\"2 Papel\")\n",
        "print(\"3 Tijera\") \n",
        "jugador = int(input(\"Elige la opcion deseada (1 2 o 3): \"))\n",
        "compu = random.randint(1,3)\n",
        "if compu == 1:\n",
        "    print(\"La computadora he elegido PIERDA\")\n",
        "elif compu == 2:\n",
        "  print(\"La computadora ha elegido PAPEL\")\n",
        "else:\n",
        "  print(\"La computadora ha elegido TIJERAS\")\n",
        "\n",
        "if jugador == 1:\n",
        "  if compu == 1:\n",
        "      print(\"Empate\")\n",
        "  elif compu == 2:\n",
        "      print(\"perdiste\")\n",
        "  elif compu == 3:\n",
        "      print(\"Ganaste\")\n",
        "  else:\n",
        "     print(\"Ingresa una de las opciones dadas\")\n",
        "elif jugador == 2:\n",
        "    if compu == 1:\n",
        "        print(\"Ganaste\")\n",
        "    elif compu == 2:\n",
        "       print(\"Empate\")\n",
        "    elif compu == 3:\n",
        "        print(\"Perdiste\")\n",
        "    else:\n",
        "        print(\"Ingresa una de las opciones dadas\")\n",
        "else: \n",
        "  if jugador ==3:\n",
        "    if compu == 1:\n",
        "        print(\"Perdiste\")\n",
        "    elif compu == 2:\n",
        "       print(\"Ganaste\")\n",
        "    elif compu == 3:\n",
        "        print(\"Empate\")\n",
        "    else:\n",
        "        print(\"Ingresa una de las opciones dadas\")\n",
        "\n",
        "    "
      ],
      "metadata": {
        "colab": {
          "base_uri": "https://localhost:8080/"
        },
        "id": "WkkmMnhuhntk",
        "outputId": "52820ea7-8552-46f8-a9b4-6c6f6c223c98"
      },
      "execution_count": 28,
      "outputs": [
        {
          "output_type": "stream",
          "name": "stdout",
          "text": [
            "1 Piedra\n",
            "2 Papel\n",
            "3 Tijera\n",
            "Elige la opcion deseada (1 2 o 3): 2\n",
            "La computadora he elegido PIERDA\n",
            "Ganaste\n"
          ]
        }
      ]
    },
    {
      "cell_type": "markdown",
      "source": [
        "9.- En una tienda de ropa, los precios de los productos cambian dependiendo de la temporada. Durante la temporada de verano, todos los productos tienen un descuento del 20%. Durante la temporada de invierno, los productos con etiqueta roja tienen un descuento del 30% y los productos con etiqueta verde tienen un descuento del 15%. Durante la temporada de primavera y otoño, los productos con etiqueta amarilla tienen un descuento del 10%. Escribe un programa que calcule el precio a pagar por un cliente, tomando en cuenta los descuentos correspondientes."
      ],
      "metadata": {
        "id": "05mntlEKzV1j"
      }
    },
    {
      "cell_type": "code",
      "source": [
        "print(\"1 Primavera \\n 2 Verano \\n 3 otoño \\n 4 Invierno\")\n",
        "temp = int(input(\"Ingresa la temporada: \"))\n",
        "print(\"1 Etiqueta roja...150$ \\n 2 Etiqueta verde...180$ \\n 3 Etiqueta amarilla...210$\")\n",
        "etiqueta = int(input(\"Selecciona el tipo de etiqueta que tiene el producto: \"))\n",
        "roja = 150\n",
        "verde = 180\n",
        "amarilla = 210\n",
        "if etiqueta == 1:\n",
        "    pagar = roja\n",
        "elif etiqueta == 2:\n",
        "  pagar = verde\n",
        "elif etiqueta == 3:\n",
        "  pagar = amarilla\n",
        "\n",
        "if temp == 1:\n",
        "  if etiqueta == 3:\n",
        "    print(\"Cuando es primavera los porductos tienen 10% de descuento\")\n",
        "    pagar *=0.90\n",
        "elif temp== 2:\n",
        "    print(\"Nuestros productos tienem el 20% de descuento en verano\")\n",
        "    pagar *=0.80\n",
        "elif temp == 3:\n",
        "    print(\"Cuando es otroño lo productos de etiqueta amarilla tiene 10% de descuento\")\n",
        "    pagar *=0.90\n",
        "elif temp == 4:\n",
        "    if etiqueta == 1:\n",
        "      print(\"Cuando es invierno los prodcutos de etiqueta roj tienen 30% de descuento\")\n",
        "      pagar *= 0.70\n",
        "    if etiqueta == 2:\n",
        "      print(\"Cuando es invierno los prodcutos de etiqueta verde tienen 15% de descuento\")\n",
        "      pagar *= 0.85\n",
        "print(f\"El precio total es de: {pagar}\")\n"
      ],
      "metadata": {
        "colab": {
          "base_uri": "https://localhost:8080/"
        },
        "id": "j5dv7CATzkeg",
        "outputId": "d47de3ed-6f95-40d2-84da-679833580945"
      },
      "execution_count": 38,
      "outputs": [
        {
          "output_type": "stream",
          "name": "stdout",
          "text": [
            "1 Primavera \n",
            " 2 Verano \n",
            " 3 otoño \n",
            " 4 Invierno\n",
            "Ingresa la temporada: 1\n",
            "1 Etiqueta roja...150$ \n",
            " 2 Etiqueta verde...180$ \n",
            " 3 Etiqueta amarilla...210$\n",
            "Selecciona el tipo de etiqueta que tiene el producto: 3\n",
            "Cuando es primavera los porductos tienen 10% de descuento\n",
            "El precio total es de: 189.0\n"
          ]
        }
      ]
    },
    {
      "cell_type": "markdown",
      "source": [
        "10.- Un restaurante ofrece descuentos a sus clientes, dependiendo del día de la semana y del tipo de menú que pidan. Los lunes, los clientes que pidan el menú del día tienen un descuento del 10%. Los martes, los clientes que pidan el menú infantil tienen un descuento del 20%. Los miércoles, los clientes que pidan el menú vegetariano tienen un descuento del 15%. Los jueves, los clientes que pidan el menú del chef tienen un descuento del 5%. Los viernes, los clientes que pidan el menú del día tienen un descuento del 5%. Los sábados y domingos no hay descuentos. Escribe un programa que calcule el precio a pagar por un cliente, tomando en cuenta los descuentos correspondientes."
      ],
      "metadata": {
        "id": "4aO4oc1ongx5"
      }
    },
    {
      "cell_type": "code",
      "source": [
        "print(\"1 Lunes \\n 2 Martes \\n 3 Miercoles \\n 4 Jueves \\n 5 Viernes\\n 6 Domingo\")\n",
        "dia = int(input(\"Selecciona que dia es: \"))\n",
        "print(\"MENU: \\n 1 Del dia...150$ \\n 2 Infantil...90$ \\n 3 Vegetariano 140$ \\n 4 Del chef... 180$\")\n",
        "menu = int(input(\"Ingresa que menu deseas pedir: \"))\n",
        "menu_dia = 150\n",
        "inf = 90\n",
        "vege = 140\n",
        "chef = 180\n",
        "if menu == 1:\n",
        "    pagar = menu_dia\n",
        "elif menu == 2:\n",
        "  pagar = inf\n",
        "elif menu == 3:\n",
        "  pagar = vege\n",
        "elif menu == 4:\n",
        "  pagar = chef\n",
        "\n",
        "if menu_dia == 1:\n",
        "    if menu == 1:\n",
        "        print(\"Tienes un descuento del 10%\")\n",
        "        pagar *=.90\n",
        "elif dia == 2:\n",
        "    if menu == 2:\n",
        "      print(\"Tienes un descuento del 20%\")\n",
        "      pagar *= 0.80\n",
        "elif dia == 3:\n",
        "    if menu == 3:\n",
        "      print(\"Tienes un descuento del 15%\")\n",
        "      pagar *= 0.85\n",
        "elif dia == 4:\n",
        "    if menu == 4:\n",
        "      print(\"Tienes un descuento del 5%\")\n",
        "      pagar *= 0.95\n",
        "elif dia == 5:\n",
        "    if menu == 5:\n",
        "      print(\"Tienes un descuento del 5%\")\n",
        "      pagar *= 0.95\n",
        "elif dia == 6:\n",
        "      print(\"Los Sabados y Domingos no hay descuentos y soporta\")\n",
        "\n",
        "print (f\"El precio es de: {pagar}\")\n",
        "\n",
        "     \n",
        "\n"
      ],
      "metadata": {
        "colab": {
          "base_uri": "https://localhost:8080/"
        },
        "id": "bmiQyS0GrcaE",
        "outputId": "5d8e4f65-7399-4cb4-b505-73c2103a1c44"
      },
      "execution_count": 30,
      "outputs": [
        {
          "output_type": "stream",
          "name": "stdout",
          "text": [
            "1 Lunes \n",
            " 2 Martes \n",
            " 3 Miercoles \n",
            " 4 Jueves \n",
            " 5 Viernes\n",
            " 6 Domingo\n",
            "Selecciona que dia es: 3\n",
            "MENU: \n",
            " 1 Del dia...150$ \n",
            " 2 Infantil...90$ \n",
            " 3 Vegetariano 140$ \n",
            " 4 Del chef... 180$\n",
            "Ingresa que menu deseas pedir: 3\n",
            "Tienes un descuento del 15%\n",
            "El precio es de: 119.0\n"
          ]
        }
      ]
    }
  ]
}
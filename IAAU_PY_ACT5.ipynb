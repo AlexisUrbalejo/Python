{
  "nbformat": 4,
  "nbformat_minor": 0,
  "metadata": {
    "colab": {
      "provenance": [],
      "authorship_tag": "ABX9TyPs1WXIwkK3KST/Q3B2eZsJ",
      "include_colab_link": true
    },
    "kernelspec": {
      "name": "python3",
      "display_name": "Python 3"
    },
    "language_info": {
      "name": "python"
    }
  },
  "cells": [
    {
      "cell_type": "markdown",
      "metadata": {
        "id": "view-in-github",
        "colab_type": "text"
      },
      "source": [
        "<a href=\"https://colab.research.google.com/github/AlexisUrbalejo/Python/blob/main/IAAU_PY_ACT5.ipynb\" target=\"_parent\"><img src=\"https://colab.research.google.com/assets/colab-badge.svg\" alt=\"Open In Colab\"/></a>"
      ]
    },
    {
      "cell_type": "markdown",
      "source": [
        " ## 1.- Programa en Python que genere 40 números aleatorios entre el 0 y 200, desplegar los números y la leyenda de cada número si es par o impar , la cantidad de los números pares e impares así como la suma de los números pares o impares.\n",
        "\n"
      ],
      "metadata": {
        "id": "vOem_fS5Jh6d"
      }
    },
    {
      "cell_type": "code",
      "source": [
        "import random \n",
        "par = 0\n",
        "impar = 0\n",
        "sumpar = 0\n",
        "sumimpar = 0\n",
        "for i in range(40):\n",
        "    num = random.randint(0,200)\n",
        "    print(f\"{i + 1} .- {num}\", end=\" \")\n",
        "    if ((num%2)== 1): \n",
        "      print(\"Impar\")\n",
        "      impar += 1\n",
        "      sumimpar += num\n",
        "    else:\n",
        "        print(\"Par\")\n",
        "        par += 1\n",
        "        sumpar += num\n",
        "print(f\"La cantidad de numeros pares es de: {par}\")\n",
        "print(f\"La cantidad de numero de impares es de: {impar}\")\n",
        "print(f\"La suma de los pares es de: {sumpar}\")\n",
        "print(f\"La suma de los impares es de: {sumimpar}\")\n",
        "\n"
      ],
      "metadata": {
        "colab": {
          "base_uri": "https://localhost:8080/"
        },
        "id": "1jjv44ceJluB",
        "outputId": "47d601c2-9691-41c9-cd4f-87c51e221ba4"
      },
      "execution_count": 1,
      "outputs": [
        {
          "output_type": "stream",
          "name": "stdout",
          "text": [
            "1 .- 14 Par\n",
            "2 .- 95 Impar\n",
            "3 .- 150 Par\n",
            "4 .- 34 Par\n",
            "5 .- 183 Impar\n",
            "6 .- 96 Par\n",
            "7 .- 57 Impar\n",
            "8 .- 198 Par\n",
            "9 .- 149 Impar\n",
            "10 .- 134 Par\n",
            "11 .- 153 Impar\n",
            "12 .- 97 Impar\n",
            "13 .- 138 Par\n",
            "14 .- 115 Impar\n",
            "15 .- 26 Par\n",
            "16 .- 184 Par\n",
            "17 .- 196 Par\n",
            "18 .- 62 Par\n",
            "19 .- 165 Impar\n",
            "20 .- 61 Impar\n",
            "21 .- 38 Par\n",
            "22 .- 181 Impar\n",
            "23 .- 170 Par\n",
            "24 .- 162 Par\n",
            "25 .- 131 Impar\n",
            "26 .- 160 Par\n",
            "27 .- 37 Impar\n",
            "28 .- 120 Par\n",
            "29 .- 150 Par\n",
            "30 .- 55 Impar\n",
            "31 .- 25 Impar\n",
            "32 .- 89 Impar\n",
            "33 .- 26 Par\n",
            "34 .- 178 Par\n",
            "35 .- 25 Impar\n",
            "36 .- 167 Impar\n",
            "37 .- 54 Par\n",
            "38 .- 178 Par\n",
            "39 .- 192 Par\n",
            "40 .- 184 Par\n",
            "La cantidad de numeros pares es de: 23\n",
            "La cantidad de numero de impares es de: 17\n",
            "La suma de los pares es de: 2844\n",
            "La suma de los impares es de: 1785\n"
          ]
        }
      ]
    },
    {
      "cell_type": "markdown",
      "source": [
        "## 2.- Programa en Python que despliegue la tabla de multiplicar de un número dado (número entre el 1 y 20).\n",
        "\n"
      ],
      "metadata": {
        "id": "CGubaxJeNYVs"
      }
    },
    {
      "cell_type": "code",
      "source": [
        "try:\n",
        "    num1 = (int(input(\"Ingresa el numero de la tabla que quieres: \")))\n",
        "    if num1 < 0 or num1 > 20:\n",
        "        raise ValueError(\"El número debe estar entre 0 y 20.\")\n",
        "except ValueError as e:\n",
        "    print(\"Error:\", e)\n",
        "else :\n",
        "    for i in range (11): \n",
        "        print(f\"{i} x {num1} = {num1*i}\")"
      ],
      "metadata": {
        "colab": {
          "base_uri": "https://localhost:8080/"
        },
        "id": "DOiHxMfYNgaE",
        "outputId": "7fcc7af5-676f-4f79-98d9-e022217136c4"
      },
      "execution_count": 2,
      "outputs": [
        {
          "output_type": "stream",
          "name": "stdout",
          "text": [
            "Ingresa el numero de la tabla que quieres: 5\n",
            "0 x 5 = 0\n",
            "1 x 5 = 5\n",
            "2 x 5 = 10\n",
            "3 x 5 = 15\n",
            "4 x 5 = 20\n",
            "5 x 5 = 25\n",
            "6 x 5 = 30\n",
            "7 x 5 = 35\n",
            "8 x 5 = 40\n",
            "9 x 5 = 45\n",
            "10 x 5 = 50\n"
          ]
        }
      ]
    },
    {
      "cell_type": "markdown",
      "source": [
        "\n",
        "## 3.- Programa en Python que lea una calificación, las calificación deberá estar en el rango de 0 a 100, si hay un error de captura, mostrar mensaje de error. con la calificación correcta mostrar msg de aprobado reprobado"
      ],
      "metadata": {
        "id": "FYevf7PvuF9Q"
      }
    },
    {
      "cell_type": "code",
      "source": [
        "try:\n",
        "    cal = (int(input(\"Ingresa la califcacion: \")))\n",
        "    if cal < 0 or cal > 100:\n",
        "        raise ValueError(\"El número debe estar entre 0 y 100.\")\n",
        "except ValueError as e:\n",
        "    print(\"Error:\", e)\n",
        "else: \n",
        "    if (cal < 60):\n",
        "        print(\"REPROBADO\")\n",
        "    else:\n",
        "        print(\"APROBADO\")\n"
      ],
      "metadata": {
        "colab": {
          "base_uri": "https://localhost:8080/"
        },
        "id": "IfNoiTMQuIYK",
        "outputId": "7e4e0a5a-c9dd-45d4-9e5e-80d3a2babb7d"
      },
      "execution_count": 3,
      "outputs": [
        {
          "output_type": "stream",
          "name": "stdout",
          "text": [
            "Ingresa la califcacion: 85\n",
            "APROBADO\n"
          ]
        }
      ]
    },
    {
      "cell_type": "markdown",
      "source": [
        "\n",
        "## 4.- Programa en Python que lea n cantidad de números enteros dentro de un rango dado (> 0 ) , el programa deberá terminar cuando el usuario introduzca el número cero. desplegar la suma de números y la media."
      ],
      "metadata": {
        "id": "PH-CKJvNs-hD"
      }
    },
    {
      "cell_type": "code",
      "source": [
        "sumanum = 0\n",
        "i = 0\n",
        "num = 1\n",
        "while num != 0:\n",
        "    num = int(input(f\"Ingresa el numero {i+1}: \"))\n",
        "    sumanum += num\n",
        "    i+=1\n",
        "media = sumanum / (i-1)\n",
        "print(f\"La suma de los numeros es: {sumanum}\")\n",
        "print(f\"La media de los numeros es: {media}\")"
      ],
      "metadata": {
        "colab": {
          "base_uri": "https://localhost:8080/"
        },
        "id": "gQ_jbXzVvv1h",
        "outputId": "e76243ec-4562-419e-affd-f2273ddbf20d"
      },
      "execution_count": 4,
      "outputs": [
        {
          "output_type": "stream",
          "name": "stdout",
          "text": [
            "Ingresa el numero 1: 5\n",
            "Ingresa el numero 2: 6\n",
            "Ingresa el numero 3: 4\n",
            "Ingresa el numero 4: 1\n",
            "Ingresa el numero 5: 0\n",
            "La suma de los numeros es: 16\n",
            "La media de los numeros es: 4.0\n"
          ]
        }
      ]
    },
    {
      "cell_type": "markdown",
      "source": [
        "## 5.- Programa en Python que sirva para leer el promedio de una materia. donde el usuario tendrá un máximo de 3 oportunidades de cursar la materia, si el promedio es aprobado, felicitarlo y continuar el siguiente semestre, si promedio es reprobado deberá salir mensaje de repetir materia o es baja académica si ha reprobado 3 veces."
      ],
      "metadata": {
        "id": "jkFJAaExwIxb"
      }
    },
    {
      "cell_type": "code",
      "source": [
        "i = 0\n",
        "while i < 3:\n",
        "    prom = int(input(f\"Ingresa el promedio del intento {i+1}: \"))\n",
        "    if prom >= 60:\n",
        "        print(\"APROBADO\")\n",
        "        break\n",
        "    else:\n",
        "        print(\"REPROBADO\")\n",
        "        i += 1\n",
        "if i == 3:\n",
        "    print(\"REPROBASTE 3 VECES, YA NO TIENES MAS INTENTOS\")"
      ],
      "metadata": {
        "colab": {
          "base_uri": "https://localhost:8080/"
        },
        "id": "nH8l74MEyksa",
        "outputId": "f01d1b2b-e856-4ae0-a8ed-68c6c982081a"
      },
      "execution_count": 6,
      "outputs": [
        {
          "output_type": "stream",
          "name": "stdout",
          "text": [
            "Ingresa el promedio del intento 1: 50\n",
            "REPROBADO\n",
            "Ingresa el promedio del intento 2: 58\n",
            "REPROBADO\n",
            "Ingresa el promedio del intento 3: 61\n",
            "APROBADO\n"
          ]
        }
      ]
    },
    {
      "cell_type": "markdown",
      "source": [
        "## PARTE DOS"
      ],
      "metadata": {
        "id": "7nFNj3jjzlAf"
      }
    },
    {
      "cell_type": "markdown",
      "source": [
        "\n",
        "## 1.- función que lea n cantidad de números hasta que el usuario lo desee, desplegar la suma de los números, media y valor de los números mayores y menores."
      ],
      "metadata": {
        "id": "_Uis4nlbzpMH"
      }
    },
    {
      "cell_type": "code",
      "source": [
        "\n",
        "\n",
        "def numeros_usuar(n):\n",
        "    sumanum = 0\n",
        "    nummayor = 0\n",
        "    nummenor =589476\n",
        "    for i in range(n):\n",
        "        num = int(input(f\"Ingresa el numero {i+1}: \"))\n",
        "        sumanum += num\n",
        "        if num > nummayor:\n",
        "            nummayor = num\n",
        "        if num < nummenor:\n",
        "            nummenor = num\n",
        "    print(\"------------------------------------\")\n",
        "    print(f\"La suma de los numeros es: {sumanum}\")\n",
        "    print(f\"La media de los numeros es: {sumanum/(i+1)}\")\n",
        "    print(f\"El numero mayor es: {nummayor} \")\n",
        "    print(f\"El numero menor es: {nummenor}\")\n",
        "\n",
        "n = int(input(\"Ingresa la cantidad de numeros que deseas leer: \"))\n",
        "numeros_usuar(n)\n",
        "     "
      ],
      "metadata": {
        "colab": {
          "base_uri": "https://localhost:8080/"
        },
        "id": "dNWtRSoYz0Yv",
        "outputId": "88cd1f0e-0b8f-4264-856e-dd0d707f8e04"
      },
      "execution_count": 8,
      "outputs": [
        {
          "output_type": "stream",
          "name": "stdout",
          "text": [
            "Ingresa la cantidad de numeros que deseas leer: 5\n",
            "Ingresa el numero 1: 48\n",
            "Ingresa el numero 2: 7\n",
            "Ingresa el numero 3: 61\n",
            "Ingresa el numero 4: 5\n",
            "Ingresa el numero 5: 1\n",
            "------------------------------------\n",
            "La suma de los numeros es: 122\n",
            "La media de los numeros es: 24.4\n",
            "El numero mayor es: 61 \n",
            "El numero menor es: 1\n"
          ]
        }
      ]
    },
    {
      "cell_type": "markdown",
      "source": [
        " ## 2.-Función que genere 15 números impares entre 10 y 60 o máximo de 25 números. desplegar la media de los pares y la media de impares"
      ],
      "metadata": {
        "id": "uutRR9Vx1mtZ"
      }
    },
    {
      "cell_type": "code",
      "source": [
        "import random\n",
        "def nums():\n",
        "    impar = 1\n",
        "    par = 1\n",
        "    i = 0\n",
        "    sumapar = 0\n",
        "    sumaimpar = 0\n",
        "    while impar <= 15 and i < 25:\n",
        "        num = random.randint(10,60)\n",
        "        print(f\"Numero {i+1}: {num} \", end = \" \")\n",
        "        if num%2 != 0:\n",
        "            print(\"IMPAR\")\n",
        "            impar += 1\n",
        "            sumaimpar += num\n",
        "        else:\n",
        "            print(\"PAR\")\n",
        "            par += 1\n",
        "            sumapar += num\n",
        "        i +=1\n",
        "    print(\"---------------------------------------\")\n",
        "    print(f\"La media de los pares es: {round(sumapar/par,2)}\")\n",
        "    print(f\"La media de los impares es: {round(sumaimpar/impar,2)}\")\n",
        "\n",
        "nums()"
      ],
      "metadata": {
        "colab": {
          "base_uri": "https://localhost:8080/"
        },
        "id": "L5Fx4Qt31uDj",
        "outputId": "16d357d4-b557-42b5-b128-947ec92ac6fd"
      },
      "execution_count": 9,
      "outputs": [
        {
          "output_type": "stream",
          "name": "stdout",
          "text": [
            "Numero 1: 28  PAR\n",
            "Numero 2: 13  IMPAR\n",
            "Numero 3: 34  PAR\n",
            "Numero 4: 30  PAR\n",
            "Numero 5: 20  PAR\n",
            "Numero 6: 25  IMPAR\n",
            "Numero 7: 31  IMPAR\n",
            "Numero 8: 45  IMPAR\n",
            "Numero 9: 54  PAR\n",
            "Numero 10: 13  IMPAR\n",
            "Numero 11: 30  PAR\n",
            "Numero 12: 20  PAR\n",
            "Numero 13: 21  IMPAR\n",
            "Numero 14: 44  PAR\n",
            "Numero 15: 40  PAR\n",
            "Numero 16: 26  PAR\n",
            "Numero 17: 55  IMPAR\n",
            "Numero 18: 51  IMPAR\n",
            "Numero 19: 52  PAR\n",
            "Numero 20: 37  IMPAR\n",
            "Numero 21: 34  PAR\n",
            "Numero 22: 18  PAR\n",
            "Numero 23: 11  IMPAR\n",
            "Numero 24: 10  PAR\n",
            "Numero 25: 35  IMPAR\n",
            "---------------------------------------\n",
            "La media de los pares es: 29.33\n",
            "La media de los impares es: 28.08\n"
          ]
        }
      ]
    },
    {
      "cell_type": "markdown",
      "source": [
        "## 3.-Función que sirva para leer y validar un número dentro de un rango dado por el usuario. repetir esta acción hasta que el usuario lo desee, desplegar cantidad de números y promedio de los números."
      ],
      "metadata": {
        "id": "qDd9ITqr22Ed"
      }
    },
    {
      "cell_type": "code",
      "source": [
        "\n",
        "def validar_num(ri,rf,msge =\"DAME UN NUMERO ENTRE \",msgError1=\"NUMERO FUERA DEL RANGO\",msgError2=\"INGRESA UN NUMERO QUE ESTE EN EL RANGO\"):\n",
        "    sumanum = 0\n",
        "    nums = 0\n",
        "    while True:\n",
        "        try:\n",
        "            num = int(input(f\"{msge} {ri} y {rf}: \"))\n",
        "        except:\n",
        "            print (msgError2)\n",
        "            continue\n",
        "        else:\n",
        "            nums +=1\n",
        "            sumanum += num\n",
        "        if num < ri or num > rf:\n",
        "            print(msgError2)\n",
        "            continue\n",
        "        else:\n",
        "            print(\"EL NUMERO ESTA DENTRO DEL RANGO\")\n",
        "            break\n",
        "    print(\"---------------------------------------------\")\n",
        "    print(f\"La cantidad de números es: {nums}\")\n",
        "    print(f\"El promedio de los números es:{sumanum/nums}\")\n",
        "        \n",
        "\n",
        "ri = int(input(\"Ingresa el rango inicial: \"))\n",
        "rf = int(input(\"Ingresa el rango final: \"))\n",
        "validar_num(ri,rf)"
      ],
      "metadata": {
        "colab": {
          "base_uri": "https://localhost:8080/"
        },
        "id": "2feeXfph28lz",
        "outputId": "cddfc672-2c61-46b2-9290-98e4ae2624a4"
      },
      "execution_count": 12,
      "outputs": [
        {
          "output_type": "stream",
          "name": "stdout",
          "text": [
            "Ingresa el rango inicial: 5\n",
            "Ingresa el rango final: 18\n",
            "DAME UN NUMERO ENTRE  5 y 18: 4\n",
            "INGRESA UN NUMERO QUE ESTE EN EL RANGO\n",
            "DAME UN NUMERO ENTRE  5 y 18: 8\n",
            "EL NUMERO ESTA DENTRO DEL RANGO\n",
            "---------------------------------------------\n",
            "La cantidad de números es: 2\n",
            "El promedio de los números es:6.0\n"
          ]
        }
      ]
    },
    {
      "cell_type": "markdown",
      "source": [
        "## 4.-Función que reciba como parámetro los valores para el área de un triángulo y retorne su resultado"
      ],
      "metadata": {
        "id": "RmbNi8og3DTE"
      }
    },
    {
      "cell_type": "code",
      "source": [
        "base = int(input(\"Ingresa la base del triangulo: \"))\n",
        "altura = int(input(\"Ingresa la altura del triangulo: \"))\n",
        "def area_triangulo(base,altura):\n",
        "    area = (base * altura) / 2\n",
        "    return area\n",
        "area = area_triangulo(base,altura)\n",
        "print(f\"El area del triangulo es: {area}\")"
      ],
      "metadata": {
        "colab": {
          "base_uri": "https://localhost:8080/"
        },
        "id": "14b_xJ5m3Hxt",
        "outputId": "9979ef0c-9349-4c34-a392-33a449fc7744"
      },
      "execution_count": 13,
      "outputs": [
        {
          "output_type": "stream",
          "name": "stdout",
          "text": [
            "Ingresa la base del triangulo: 5\n",
            "Ingresa la altura del triangulo: 8\n",
            "El area del triangulo es: 20.0\n"
          ]
        }
      ]
    },
    {
      "cell_type": "markdown",
      "source": [
        "## 5.-Función que sirva para validar un número dentro de un rango dado"
      ],
      "metadata": {
        "id": "VEdXVjm93Lf7"
      }
    },
    {
      "cell_type": "code",
      "source": [
        "def validar_num(ri=13,rf=25,msge =\"DAME UN NUMERO \",msgError1=\"NUMERO FUERA DEL RANGO\",msgError2=\"EL NUMERO NO SE ENCUENTRA EN EL RANGO\"):\n",
        "    while True:\n",
        "        try:\n",
        "            num = int(input(f\"{msge}: \"))\n",
        "        except:\n",
        "            print (msgError2)\n",
        "            continue\n",
        "        if num < ri or num > rf:\n",
        "            print(msgError2)\n",
        "            continue\n",
        "        else:\n",
        "            print(f\"FELICIDADES, EL NUMERO ESTA DENTRO DEL RANGO({ri} y {rf})\")\n",
        "            break\n",
        "\n",
        "validar_num()\n",
        "     "
      ],
      "metadata": {
        "colab": {
          "base_uri": "https://localhost:8080/"
        },
        "id": "QY50JDwf3Rf4",
        "outputId": "dc2b248e-cf88-4fdd-84e9-254a3f9f9ff2"
      },
      "execution_count": 3,
      "outputs": [
        {
          "output_type": "stream",
          "name": "stdout",
          "text": [
            "DAME UN NUMERO : 8\n",
            "EL NUMERO NO SE ENCUENTRA EN EL RANGO\n",
            "DAME UN NUMERO : 9\n",
            "EL NUMERO NO SE ENCUENTRA EN EL RANGO\n",
            "DAME UN NUMERO : 15\n",
            "FELICIDADES, EL NUMERO ESTA DENTRO DEL RANGO(13 y 25)\n"
          ]
        }
      ]
    }
  ]
}
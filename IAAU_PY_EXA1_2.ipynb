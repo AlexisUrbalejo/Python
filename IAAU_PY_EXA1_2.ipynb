{
  "nbformat": 4,
  "nbformat_minor": 0,
  "metadata": {
    "colab": {
      "provenance": [],
      "authorship_tag": "ABX9TyPkIal2yrrDfHe/jULhVpOp",
      "include_colab_link": true
    },
    "kernelspec": {
      "name": "python3",
      "display_name": "Python 3"
    },
    "language_info": {
      "name": "python"
    }
  },
  "cells": [
    {
      "cell_type": "markdown",
      "metadata": {
        "id": "view-in-github",
        "colab_type": "text"
      },
      "source": [
        "<a href=\"https://colab.research.google.com/github/AlexisUrbalejo/Python/blob/main/IAAU_PY_EXA1_2.ipynb\" target=\"_parent\"><img src=\"https://colab.research.google.com/assets/colab-badge.svg\" alt=\"Open In Colab\"/></a>"
      ]
    },
    {
      "cell_type": "code",
      "execution_count": 5,
      "metadata": {
        "colab": {
          "base_uri": "https://localhost:8080/"
        },
        "id": "gZEdXpNR1k5P",
        "outputId": "7412ea05-3cc0-4c46-bb25-2e31eedc42ca"
      },
      "outputs": [
        {
          "output_type": "stream",
          "name": "stdout",
          "text": [
            "Ingresa el numero del que desea el factorial: 4\n",
            "3 x 4\n",
            "2 x 12\n",
            "1 x 24\n",
            "El factorial de 4 es 24\n"
          ]
        }
      ],
      "source": [
        "def factorial():\n",
        "    try:\n",
        "        i=0\n",
        "        num=int(input(\"Ingresa el numero del que desea el factorial: \"))\n",
        "        numant=num\n",
        "        sig=num-1\n",
        "        while i<num-1:\n",
        "            fact=numant*sig\n",
        "            print(f\"{sig} x {numant}\")\n",
        "            numant=fact\n",
        "            sig=sig-1\n",
        "            i+=1\n",
        "        print(f\"El factorial de {num} es {fact}\")\n",
        "    except:\n",
        "        print(\"ERROR: El valor ingresado debe de ser un numero\")\n",
        "factorial()"
      ]
    }
  ]
}
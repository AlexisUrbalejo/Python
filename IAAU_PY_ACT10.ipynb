{
  "nbformat": 4,
  "nbformat_minor": 0,
  "metadata": {
    "colab": {
      "provenance": [],
      "authorship_tag": "ABX9TyOkp4+U5ZJVcSlBK4jlYaKH",
      "include_colab_link": true
    },
    "kernelspec": {
      "name": "python3",
      "display_name": "Python 3"
    },
    "language_info": {
      "name": "python"
    }
  },
  "cells": [
    {
      "cell_type": "markdown",
      "metadata": {
        "id": "view-in-github",
        "colab_type": "text"
      },
      "source": [
        "<a href=\"https://colab.research.google.com/github/AlexisUrbalejo/Python/blob/main/IAAU_PY_ACT10.ipynb\" target=\"_parent\"><img src=\"https://colab.research.google.com/assets/colab-badge.svg\" alt=\"Open In Colab\"/></a>"
      ]
    },
    {
      "cell_type": "code",
      "execution_count": 154,
      "metadata": {
        "id": "Hq5fqXWpNV_J",
        "colab": {
          "base_uri": "https://localhost:8080/"
        },
        "outputId": "843fe065-9294-44ee-80de-62be5858bd46"
      },
      "outputs": [
        {
          "output_type": "stream",
          "name": "stdout",
          "text": [
            "Looking in indexes: https://pypi.org/simple, https://us-python.pkg.dev/colab-wheels/public/simple/\n",
            "Requirement already satisfied: pyyaml in /usr/local/lib/python3.9/dist-packages (6.0)\n"
          ]
        }
      ],
      "source": [
        "import random\n",
        "import pandas as pd\n",
        "import pprint \n",
        "!pip3 install pyyaml \n",
        "import yaml\n",
        "from IPython.display import clear_output"
      ]
    },
    {
      "cell_type": "code",
      "source": [
        "def menu ():\n",
        "    print(\"             MENU       \")\n",
        "    print(\"1.- Agregar de forma AUTOMATICA\")\n",
        "    print(\"2.- Agregar de forma MANUAL\")\n",
        "    print(\"3.- Impirmir lista\")\n",
        "    print(\"4.- Buscar (ID)\")\n",
        "    print(\"5.- Ordenar\")\n",
        "    print(\"6.- Eliminar (ID)\")\n",
        "    print(\"7.- Borrar toda la lista (ID)\")\n",
        "    print(\"0.- SALIR\")\n",
        "\n",
        "\n"
      ],
      "metadata": {
        "id": "8cJjZw3sf8il"
      },
      "execution_count": 155,
      "outputs": []
    },
    {
      "cell_type": "code",
      "source": [
        "def menu2 ():\n",
        "    print(\"¿Que desea hacer con la lista?\")\n",
        "    \n",
        "    print(\"3.- Impirmir lista\")\n",
        "    print(\"4.- Buscar (ID)\")\n",
        "    print(\"5.- Ordenar\")\n",
        "    print(\"6.- Eliminar (ID)\")\n",
        "    print(\"7.- Borrar toda la lista (ID)\")\n",
        "    print(\"0.- SALIR\")\n"
      ],
      "metadata": {
        "id": "tdaq_zPrdDCX"
      },
      "execution_count": 167,
      "outputs": []
    },
    {
      "cell_type": "code",
      "source": [
        "\n",
        "def dic_auto():\n",
        "    registro = [\"Matricula\",\"Nombre\",\"Ap.Paterno\",\"Ap.Materno\",\"Edad\",\"Sexo\"]\n",
        "    nombre=[\"Alexis\",\"Jorge\",\"Aldair\",\"Marcelo\",\"Sergio\",\"Juan Pablo\",\"David\",\"Isai\",]\n",
        "    nombrem = [\"Hanna\",\"Paola\",\"Samantha\",\"Mariana\",\"Reyna\",\"Berenice\",\"Nancy\",\"Melissa\"]\n",
        "    appaterno = [\"Noble\",\"Arredondo\",\"Urbalejo\",\"Barba\",\"Ramirez\",\"Armenta\",\"Lopez\",\"Ontiveros\"]\n",
        "    apmaterno =[\"Anguiano\",\"Kardashin\",\"Eilish\",\"Duarte\",\"Lozano\",\"Rios\",\"Cardenas\",\"Palacios\"]\n",
        "    edad = [17,18,19,20,21,22,23,24]\n",
        "    matricula = [368747,569874,214587,659841,364879,326145,365894,152487]\n",
        "    sexo = [\"H\",\"H\",\"H\",\"H\",\"H\",\"H\",\"H\",\"H\",]\n",
        "    nrandom=random.randint(0,7)\n",
        "    dic = dict(zip(registro,[matricula[nrandom],nombre[nrandom],appaterno[nrandom],apmaterno[nrandom],edad[nrandom],sexo[nrandom]]))\n",
        "    print(\"Ya se creo el diccionario\")\n",
        "    return dic\n"
      ],
      "metadata": {
        "id": "RmhbgeI-OMKl"
      },
      "execution_count": 156,
      "outputs": []
    },
    {
      "cell_type": "code",
      "source": [
        "def dic_manual():\n",
        "    mat = input(\"Ingresa la matricula: \")\n",
        "    nombre = input(\"Ingresa el nombre: \")\n",
        "    appaterno = input(\"Ingresa el Apellido Paterno: \")\n",
        "    apmaterno = input(\"Ingresa el Apellido Materno: \")\n",
        "    edad = input(\"Ingresa tu edad: \")\n",
        "    sexo = input(\"Ingresa tu sexo (H o M)\")\n",
        "    dic2 = dict(Matricula = f\"{mat}\", Nombre = f\"{nombre}\", ApellidoPaterno = f\"{appaterno}\",ApellidoMaterno = f\"{apmaterno}\", Edad = f\"{edad}\", Sexo = f\"{sexo}\")\n",
        "    return dic2"
      ],
      "metadata": {
        "id": "RJvDiyJewJBC"
      },
      "execution_count": 157,
      "outputs": []
    },
    {
      "cell_type": "code",
      "source": [
        "def sal_pm():\n",
        "  dic2 = dic_manual()\n",
        "\n",
        "  dicc_list =[dic2 ]\n",
        "  salida=pd.DataFrame(dicc_list)\n",
        "  salida\n",
        "  return salida "
      ],
      "metadata": {
        "colab": {
          "base_uri": "https://localhost:8080/",
          "height": 185
        },
        "id": "2xue-666u7Le",
        "outputId": "8cced4fe-c52e-40b7-b164-f1150bf3515a"
      },
      "execution_count": 164,
      "outputs": [
        {
          "name": "stdout",
          "output_type": "stream",
          "text": [
            "Ingresa la matricula: 368747\n",
            "Ingresa el nombre: Alexis\n",
            "Ingresa el Apellido Paterno: Arredondo\n",
            "Ingresa el Apellido Materno: Urbalejo\n",
            "Ingresa tu edad: 21\n",
            "Ingresa tu sexo (H o M)H\n"
          ]
        },
        {
          "output_type": "execute_result",
          "data": {
            "text/plain": [
              "  Matricula  Nombre ApellidoPaterno ApellidoMaterno Edad Sexo\n",
              "0    368747  Alexis       Arredondo        Urbalejo   21    H"
            ],
            "text/html": [
              "\n",
              "  <div id=\"df-4ebfba73-6e72-4265-b040-7ed09acba5ea\">\n",
              "    <div class=\"colab-df-container\">\n",
              "      <div>\n",
              "<style scoped>\n",
              "    .dataframe tbody tr th:only-of-type {\n",
              "        vertical-align: middle;\n",
              "    }\n",
              "\n",
              "    .dataframe tbody tr th {\n",
              "        vertical-align: top;\n",
              "    }\n",
              "\n",
              "    .dataframe thead th {\n",
              "        text-align: right;\n",
              "    }\n",
              "</style>\n",
              "<table border=\"1\" class=\"dataframe\">\n",
              "  <thead>\n",
              "    <tr style=\"text-align: right;\">\n",
              "      <th></th>\n",
              "      <th>Matricula</th>\n",
              "      <th>Nombre</th>\n",
              "      <th>ApellidoPaterno</th>\n",
              "      <th>ApellidoMaterno</th>\n",
              "      <th>Edad</th>\n",
              "      <th>Sexo</th>\n",
              "    </tr>\n",
              "  </thead>\n",
              "  <tbody>\n",
              "    <tr>\n",
              "      <th>0</th>\n",
              "      <td>368747</td>\n",
              "      <td>Alexis</td>\n",
              "      <td>Arredondo</td>\n",
              "      <td>Urbalejo</td>\n",
              "      <td>21</td>\n",
              "      <td>H</td>\n",
              "    </tr>\n",
              "  </tbody>\n",
              "</table>\n",
              "</div>\n",
              "      <button class=\"colab-df-convert\" onclick=\"convertToInteractive('df-4ebfba73-6e72-4265-b040-7ed09acba5ea')\"\n",
              "              title=\"Convert this dataframe to an interactive table.\"\n",
              "              style=\"display:none;\">\n",
              "        \n",
              "  <svg xmlns=\"http://www.w3.org/2000/svg\" height=\"24px\"viewBox=\"0 0 24 24\"\n",
              "       width=\"24px\">\n",
              "    <path d=\"M0 0h24v24H0V0z\" fill=\"none\"/>\n",
              "    <path d=\"M18.56 5.44l.94 2.06.94-2.06 2.06-.94-2.06-.94-.94-2.06-.94 2.06-2.06.94zm-11 1L8.5 8.5l.94-2.06 2.06-.94-2.06-.94L8.5 2.5l-.94 2.06-2.06.94zm10 10l.94 2.06.94-2.06 2.06-.94-2.06-.94-.94-2.06-.94 2.06-2.06.94z\"/><path d=\"M17.41 7.96l-1.37-1.37c-.4-.4-.92-.59-1.43-.59-.52 0-1.04.2-1.43.59L10.3 9.45l-7.72 7.72c-.78.78-.78 2.05 0 2.83L4 21.41c.39.39.9.59 1.41.59.51 0 1.02-.2 1.41-.59l7.78-7.78 2.81-2.81c.8-.78.8-2.07 0-2.86zM5.41 20L4 18.59l7.72-7.72 1.47 1.35L5.41 20z\"/>\n",
              "  </svg>\n",
              "      </button>\n",
              "      \n",
              "  <style>\n",
              "    .colab-df-container {\n",
              "      display:flex;\n",
              "      flex-wrap:wrap;\n",
              "      gap: 12px;\n",
              "    }\n",
              "\n",
              "    .colab-df-convert {\n",
              "      background-color: #E8F0FE;\n",
              "      border: none;\n",
              "      border-radius: 50%;\n",
              "      cursor: pointer;\n",
              "      display: none;\n",
              "      fill: #1967D2;\n",
              "      height: 32px;\n",
              "      padding: 0 0 0 0;\n",
              "      width: 32px;\n",
              "    }\n",
              "\n",
              "    .colab-df-convert:hover {\n",
              "      background-color: #E2EBFA;\n",
              "      box-shadow: 0px 1px 2px rgba(60, 64, 67, 0.3), 0px 1px 3px 1px rgba(60, 64, 67, 0.15);\n",
              "      fill: #174EA6;\n",
              "    }\n",
              "\n",
              "    [theme=dark] .colab-df-convert {\n",
              "      background-color: #3B4455;\n",
              "      fill: #D2E3FC;\n",
              "    }\n",
              "\n",
              "    [theme=dark] .colab-df-convert:hover {\n",
              "      background-color: #434B5C;\n",
              "      box-shadow: 0px 1px 3px 1px rgba(0, 0, 0, 0.15);\n",
              "      filter: drop-shadow(0px 1px 2px rgba(0, 0, 0, 0.3));\n",
              "      fill: #FFFFFF;\n",
              "    }\n",
              "  </style>\n",
              "\n",
              "      <script>\n",
              "        const buttonEl =\n",
              "          document.querySelector('#df-4ebfba73-6e72-4265-b040-7ed09acba5ea button.colab-df-convert');\n",
              "        buttonEl.style.display =\n",
              "          google.colab.kernel.accessAllowed ? 'block' : 'none';\n",
              "\n",
              "        async function convertToInteractive(key) {\n",
              "          const element = document.querySelector('#df-4ebfba73-6e72-4265-b040-7ed09acba5ea');\n",
              "          const dataTable =\n",
              "            await google.colab.kernel.invokeFunction('convertToInteractive',\n",
              "                                                     [key], {});\n",
              "          if (!dataTable) return;\n",
              "\n",
              "          const docLinkHtml = 'Like what you see? Visit the ' +\n",
              "            '<a target=\"_blank\" href=https://colab.research.google.com/notebooks/data_table.ipynb>data table notebook</a>'\n",
              "            + ' to learn more about interactive tables.';\n",
              "          element.innerHTML = '';\n",
              "          dataTable['output_type'] = 'display_data';\n",
              "          await google.colab.output.renderOutput(dataTable, element);\n",
              "          const docLink = document.createElement('div');\n",
              "          docLink.innerHTML = docLinkHtml;\n",
              "          element.appendChild(docLink);\n",
              "        }\n",
              "      </script>\n",
              "    </div>\n",
              "  </div>\n",
              "  "
            ]
          },
          "metadata": {},
          "execution_count": 164
        }
      ]
    },
    {
      "cell_type": "code",
      "source": [
        "def sal_pa():\n",
        "  dic = dic_auto()\n",
        "\n",
        "  dicc_list =[dic]\n",
        "  salida=pd.DataFrame(dicc_list)\n",
        "  salida\n",
        "  return salida\n"
      ],
      "metadata": {
        "id": "rIZHll2WEqAf"
      },
      "execution_count": 159,
      "outputs": []
    },
    {
      "cell_type": "code",
      "source": [
        "def sal_pra1():\n",
        "    dic = dic_auto()\n",
        "    dicc_list = [ dic]\n",
        "\n",
        "    pprint.pprint(dicc_list)\n",
        "    return pprint"
      ],
      "metadata": {
        "id": "Jw_zfOEiF4vh"
      },
      "execution_count": 160,
      "outputs": []
    },
    {
      "cell_type": "code",
      "source": [
        "def sal_pra():\n",
        "    dic2 = dic_manual()\n",
        "    dicc_list = [ dic2]\n",
        "\n",
        "    pprint.pprint(dicc_list)\n",
        "    return pprint"
      ],
      "metadata": {
        "id": "BcRNmKhWGgLK"
      },
      "execution_count": 161,
      "outputs": []
    },
    {
      "cell_type": "code",
      "source": [
        "dic = dic_auto()\n",
        "dicc_list = [dic]\n",
        "      \n",
        "\n",
        "print(yaml.dump(dicc_list, sort_keys=False, default_flow_style=False))"
      ],
      "metadata": {
        "colab": {
          "base_uri": "https://localhost:8080/"
        },
        "id": "nH9G9C8mH4Gg",
        "outputId": "850b675a-7be3-421f-a8d5-8bd0e869cf85"
      },
      "execution_count": 162,
      "outputs": [
        {
          "output_type": "stream",
          "name": "stdout",
          "text": [
            "Ya se creo el diccionario\n",
            "- Matricula: 214587\n",
            "  Nombre: Aldair\n",
            "  Ap.Paterno: Urbalejo\n",
            "  Ap.Materno: Eilish\n",
            "  Edad: 19\n",
            "  Sexo: H\n",
            "\n"
          ]
        }
      ]
    },
    {
      "cell_type": "code",
      "source": [
        "while True:\n",
        "    nrandom=random.randint(0,2)\n",
        "    menu()\n",
        "    op = int(input(\"Elija una opcion: \"))\n",
        "    clear_output()\n",
        "    \n",
        "    if op == 1:\n",
        "      menu2()\n",
        "      el =int(input(\"\")) \n",
        "      if el == 3:\n",
        "          if nrandom == 0:\n",
        "            salida = sal_pa()\n",
        "            print (f\"{salida}\")\n",
        "            input(\"Presiona ENTER para borrar la pantalla\")\n",
        "            clear_output()\n",
        "            continue\n",
        "          elif nrandom == 1:\n",
        "                pprint = sal_pra1()\n",
        "                print(f\"{pprint}\")\n",
        "          elif nrandom == 2:\n",
        "              print(\"\")\n",
        "   \n",
        "             \n",
        "    elif op == 0:\n",
        "        break\n"
      ],
      "metadata": {
        "colab": {
          "base_uri": "https://localhost:8080/",
          "height": 374
        },
        "id": "rYlprtmOlxNk",
        "outputId": "6a86ff90-0a4d-45b4-837b-6039657374f6"
      },
      "execution_count": 194,
      "outputs": [
        {
          "name": "stdout",
          "output_type": "stream",
          "text": [
            "¿Que desea hacer con la lista?\n",
            "3.- Impirmir lista\n",
            "4.- Buscar (ID)\n",
            "5.- Ordenar\n",
            "6.- Eliminar (ID)\n",
            "7.- Borrar toda la lista (ID)\n",
            "0.- SALIR\n",
            "3\n"
          ]
        },
        {
          "output_type": "error",
          "ename": "NameError",
          "evalue": "ignored",
          "traceback": [
            "\u001b[0;31m---------------------------------------------------------------------------\u001b[0m",
            "\u001b[0;31mNameError\u001b[0m                                 Traceback (most recent call last)",
            "\u001b[0;32m<ipython-input-194-e92112d64550>\u001b[0m in \u001b[0;36m<cell line: 2>\u001b[0;34m()\u001b[0m\n\u001b[1;32m     16\u001b[0m             \u001b[0;32mcontinue\u001b[0m\u001b[0;34m\u001b[0m\u001b[0;34m\u001b[0m\u001b[0m\n\u001b[1;32m     17\u001b[0m           \u001b[0;32melif\u001b[0m \u001b[0mnrandom\u001b[0m \u001b[0;34m==\u001b[0m \u001b[0;36m1\u001b[0m\u001b[0;34m:\u001b[0m\u001b[0;34m\u001b[0m\u001b[0;34m\u001b[0m\u001b[0m\n\u001b[0;32m---> 18\u001b[0;31m                 \u001b[0mpprint\u001b[0m \u001b[0;34m=\u001b[0m \u001b[0msal_pra1\u001b[0m\u001b[0;34m(\u001b[0m\u001b[0;34m)\u001b[0m\u001b[0;34m\u001b[0m\u001b[0;34m\u001b[0m\u001b[0m\n\u001b[0m\u001b[1;32m     19\u001b[0m                 \u001b[0mprint\u001b[0m\u001b[0;34m(\u001b[0m\u001b[0;34mf\"{pprint}\"\u001b[0m\u001b[0;34m)\u001b[0m\u001b[0;34m\u001b[0m\u001b[0;34m\u001b[0m\u001b[0m\n\u001b[1;32m     20\u001b[0m           \u001b[0;32melif\u001b[0m \u001b[0mnrandom\u001b[0m \u001b[0;34m==\u001b[0m \u001b[0;36m2\u001b[0m\u001b[0;34m:\u001b[0m\u001b[0;34m\u001b[0m\u001b[0;34m\u001b[0m\u001b[0m\n",
            "\u001b[0;31mNameError\u001b[0m: name 'sal_pra1' is not defined"
          ]
        }
      ]
    }
  ]
}
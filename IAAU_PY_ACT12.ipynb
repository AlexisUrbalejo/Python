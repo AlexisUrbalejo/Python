{
  "nbformat": 4,
  "nbformat_minor": 0,
  "metadata": {
    "colab": {
      "provenance": [],
      "mount_file_id": "1TPShPq8V77sZIQI4qJeAdeBdXaifb7dt",
      "authorship_tag": "ABX9TyPoYWO+enWqR4R2d2oHB2ta",
      "include_colab_link": true
    },
    "kernelspec": {
      "name": "python3",
      "display_name": "Python 3"
    },
    "language_info": {
      "name": "python"
    }
  },
  "cells": [
    {
      "cell_type": "markdown",
      "metadata": {
        "id": "view-in-github",
        "colab_type": "text"
      },
      "source": [
        "<a href=\"https://colab.research.google.com/github/AlexisUrbalejo/Python/blob/main/IAAU_PY_ACT12.ipynb\" target=\"_parent\"><img src=\"https://colab.research.google.com/assets/colab-badge.svg\" alt=\"Open In Colab\"/></a>"
      ]
    },
    {
      "cell_type": "code",
      "execution_count": 165,
      "metadata": {
        "id": "gqLa0pHdWWaS"
      },
      "outputs": [],
      "source": [
        "import sys\n",
        "import os\n",
        "from IPython.display import clear_output\n",
        "import random\n",
        "import json\n",
        "import yaml\n",
        "import pandas as pd\n"
      ]
    },
    {
      "cell_type": "code",
      "source": [
        "from google.colab import drive\n",
        "drive.mount('/content/drive')"
      ],
      "metadata": {
        "colab": {
          "base_uri": "https://localhost:8080/",
          "height": 0
        },
        "id": "kC6gqadgz9HF",
        "outputId": "bd8c41a4-d6a0-4924-d063-0aca76dab7eb"
      },
      "execution_count": 166,
      "outputs": [
        {
          "output_type": "stream",
          "name": "stdout",
          "text": [
            "Drive already mounted at /content/drive; to attempt to forcibly remount, call drive.mount(\"/content/drive\", force_remount=True).\n"
          ]
        }
      ]
    },
    {
      "cell_type": "code",
      "source": [
        "ruta='/content/drive/MyDrive/ColabNotebooks'"
      ],
      "metadata": {
        "id": "6f2yQ5sM0kDK"
      },
      "execution_count": 167,
      "outputs": []
    },
    {
      "cell_type": "code",
      "source": [
        "\n",
        "import sys\n",
        "sys.path.append(ruta)\n",
        "     "
      ],
      "metadata": {
        "id": "MA8MM44B0k8Z"
      },
      "execution_count": 168,
      "outputs": []
    },
    {
      "cell_type": "code",
      "source": [
        "def valinum_int(msge,ri=0,rf=9999999,msgError1=\"NUMERO FUERA DEL RANGO\",msgError2=\"INGRESA UN VALOR NUMERICO\"):\n",
        "    while True:\n",
        "        try:\n",
        "            num = int(input(f\"{msge}: \"))\n",
        "        except:\n",
        "            print (msgError2)\n",
        "            continue\n",
        "        if num < ri or num > rf:\n",
        "            print(f\"{msgError1} ({ri} a {rf})\")\n",
        "            continue\n",
        "        else:\n",
        "            break\n",
        "    return num"
      ],
      "metadata": {
        "id": "XLtCPrAEsR9E"
      },
      "execution_count": 169,
      "outputs": []
    },
    {
      "cell_type": "code",
      "source": [
        "def dic_auto():\n",
        "    registro = [\"ID\",\"Nombre\",\"Ap.Paterno\",\"Ap.Materno\",\"Edad\",\"Sexo\",\"Puesto\"]\n",
        "    nombre=[\"Alexis\",\"Jorge\",\"Aldair\",\"Marcelo\",\"Sergio\",\"Juan Pablo\",\"David\",\"Isai\",\"Adrian\",\"Billie\"]\n",
        "    nombrem = [\"Hanna\",\"Paola\",\"Samantha\",\"Mariana\",\"Reyna\",\"Berenice\",\"Nancy\",\"Melissa\"]\n",
        "    appaterno = [\"Noble\",\"Arredondo\",\"Urbalejo\",\"Barba\",\"Ramirez\",\"Armenta\",\"Lopez\",\"Ontiveros\",\"Lopez\",\"Hunter\"]\n",
        "    apmaterno =[\"Anguiano\",\"Kardashin\",\"Eilish\",\"Duarte\",\"Lozano\",\"Rios\",\"Cardenas\",\"Palacios\",\"Reyes\",\"Alvarez\"]\n",
        "    edad = [17,18,19,20,21,22,23,24]\n",
        "    ID = [368747,569874,214587,659841,364879,326145,365894,152487,659874,259874]\n",
        "    puesto=[\"Director ejecutivo\",\"Director financiero\",\"Director de recursos humanos\",\"Director de tecnologia\",\"Gerente de Marketing\",\"Gerente de ventas\",\"Gerente de operaciones\",\"Analista de operaciones\",\"Desarrollo de sofware\",\"Atencion al cliente\"]\n",
        "    sexo = [\"H\",\"H\",\"H\",\"H\",\"H\",\"H\",\"H\",\"H\",\"H\",\"H\"]\n",
        "    nrandom=random.randint(0,7)\n",
        "    dic = dict(zip(registro,[ID[nrandom],nombre[nrandom],appaterno[nrandom],apmaterno[nrandom],edad[nrandom],sexo[nrandom],puesto[nrandom]]))\n",
        "  \n",
        "    return dic"
      ],
      "metadata": {
        "id": "UVm_toeAmy7w"
      },
      "execution_count": 170,
      "outputs": []
    },
    {
      "cell_type": "code",
      "source": [
        "def tabla ():\n",
        "  N=12\n",
        "  lista=[]\n",
        "  for i in range(N-1,0,-1):\n",
        "          dic = dic_auto()\n",
        "          lista.append(dic)\n",
        "  return lista\n"
      ],
      "metadata": {
        "colab": {
          "base_uri": "https://localhost:8080/",
          "height": 394
        },
        "id": "2GVpigAdm2w4",
        "outputId": "97867685-2d04-4f3c-bf0d-a33eb57288d2"
      },
      "execution_count": 195,
      "outputs": [
        {
          "output_type": "execute_result",
          "data": {
            "text/plain": [
              "        ID      Nombre Ap.Paterno Ap.Materno  Edad Sexo  \\\n",
              "0   368747      Alexis      Noble   Anguiano    17    H   \n",
              "1   365894       David      Lopez   Cardenas    23    H   \n",
              "2   365894       David      Lopez   Cardenas    23    H   \n",
              "3   326145  Juan Pablo    Armenta       Rios    22    H   \n",
              "4   365894       David      Lopez   Cardenas    23    H   \n",
              "5   569874       Jorge  Arredondo  Kardashin    18    H   \n",
              "6   364879      Sergio    Ramirez     Lozano    21    H   \n",
              "7   326145  Juan Pablo    Armenta       Rios    22    H   \n",
              "8   368747      Alexis      Noble   Anguiano    17    H   \n",
              "9   569874       Jorge  Arredondo  Kardashin    18    H   \n",
              "10  368747      Alexis      Noble   Anguiano    17    H   \n",
              "\n",
              "                    Puesto  \n",
              "0       Director ejecutivo  \n",
              "1   Gerente de operaciones  \n",
              "2   Gerente de operaciones  \n",
              "3        Gerente de ventas  \n",
              "4   Gerente de operaciones  \n",
              "5      Director financiero  \n",
              "6     Gerente de Marketing  \n",
              "7        Gerente de ventas  \n",
              "8       Director ejecutivo  \n",
              "9      Director financiero  \n",
              "10      Director ejecutivo  "
            ],
            "text/html": [
              "\n",
              "  <div id=\"df-ff52a0e0-18f1-4cb1-bc1c-7971b816bb57\">\n",
              "    <div class=\"colab-df-container\">\n",
              "      <div>\n",
              "<style scoped>\n",
              "    .dataframe tbody tr th:only-of-type {\n",
              "        vertical-align: middle;\n",
              "    }\n",
              "\n",
              "    .dataframe tbody tr th {\n",
              "        vertical-align: top;\n",
              "    }\n",
              "\n",
              "    .dataframe thead th {\n",
              "        text-align: right;\n",
              "    }\n",
              "</style>\n",
              "<table border=\"1\" class=\"dataframe\">\n",
              "  <thead>\n",
              "    <tr style=\"text-align: right;\">\n",
              "      <th></th>\n",
              "      <th>ID</th>\n",
              "      <th>Nombre</th>\n",
              "      <th>Ap.Paterno</th>\n",
              "      <th>Ap.Materno</th>\n",
              "      <th>Edad</th>\n",
              "      <th>Sexo</th>\n",
              "      <th>Puesto</th>\n",
              "    </tr>\n",
              "  </thead>\n",
              "  <tbody>\n",
              "    <tr>\n",
              "      <th>0</th>\n",
              "      <td>368747</td>\n",
              "      <td>Alexis</td>\n",
              "      <td>Noble</td>\n",
              "      <td>Anguiano</td>\n",
              "      <td>17</td>\n",
              "      <td>H</td>\n",
              "      <td>Director ejecutivo</td>\n",
              "    </tr>\n",
              "    <tr>\n",
              "      <th>1</th>\n",
              "      <td>365894</td>\n",
              "      <td>David</td>\n",
              "      <td>Lopez</td>\n",
              "      <td>Cardenas</td>\n",
              "      <td>23</td>\n",
              "      <td>H</td>\n",
              "      <td>Gerente de operaciones</td>\n",
              "    </tr>\n",
              "    <tr>\n",
              "      <th>2</th>\n",
              "      <td>365894</td>\n",
              "      <td>David</td>\n",
              "      <td>Lopez</td>\n",
              "      <td>Cardenas</td>\n",
              "      <td>23</td>\n",
              "      <td>H</td>\n",
              "      <td>Gerente de operaciones</td>\n",
              "    </tr>\n",
              "    <tr>\n",
              "      <th>3</th>\n",
              "      <td>326145</td>\n",
              "      <td>Juan Pablo</td>\n",
              "      <td>Armenta</td>\n",
              "      <td>Rios</td>\n",
              "      <td>22</td>\n",
              "      <td>H</td>\n",
              "      <td>Gerente de ventas</td>\n",
              "    </tr>\n",
              "    <tr>\n",
              "      <th>4</th>\n",
              "      <td>365894</td>\n",
              "      <td>David</td>\n",
              "      <td>Lopez</td>\n",
              "      <td>Cardenas</td>\n",
              "      <td>23</td>\n",
              "      <td>H</td>\n",
              "      <td>Gerente de operaciones</td>\n",
              "    </tr>\n",
              "    <tr>\n",
              "      <th>5</th>\n",
              "      <td>569874</td>\n",
              "      <td>Jorge</td>\n",
              "      <td>Arredondo</td>\n",
              "      <td>Kardashin</td>\n",
              "      <td>18</td>\n",
              "      <td>H</td>\n",
              "      <td>Director financiero</td>\n",
              "    </tr>\n",
              "    <tr>\n",
              "      <th>6</th>\n",
              "      <td>364879</td>\n",
              "      <td>Sergio</td>\n",
              "      <td>Ramirez</td>\n",
              "      <td>Lozano</td>\n",
              "      <td>21</td>\n",
              "      <td>H</td>\n",
              "      <td>Gerente de Marketing</td>\n",
              "    </tr>\n",
              "    <tr>\n",
              "      <th>7</th>\n",
              "      <td>326145</td>\n",
              "      <td>Juan Pablo</td>\n",
              "      <td>Armenta</td>\n",
              "      <td>Rios</td>\n",
              "      <td>22</td>\n",
              "      <td>H</td>\n",
              "      <td>Gerente de ventas</td>\n",
              "    </tr>\n",
              "    <tr>\n",
              "      <th>8</th>\n",
              "      <td>368747</td>\n",
              "      <td>Alexis</td>\n",
              "      <td>Noble</td>\n",
              "      <td>Anguiano</td>\n",
              "      <td>17</td>\n",
              "      <td>H</td>\n",
              "      <td>Director ejecutivo</td>\n",
              "    </tr>\n",
              "    <tr>\n",
              "      <th>9</th>\n",
              "      <td>569874</td>\n",
              "      <td>Jorge</td>\n",
              "      <td>Arredondo</td>\n",
              "      <td>Kardashin</td>\n",
              "      <td>18</td>\n",
              "      <td>H</td>\n",
              "      <td>Director financiero</td>\n",
              "    </tr>\n",
              "    <tr>\n",
              "      <th>10</th>\n",
              "      <td>368747</td>\n",
              "      <td>Alexis</td>\n",
              "      <td>Noble</td>\n",
              "      <td>Anguiano</td>\n",
              "      <td>17</td>\n",
              "      <td>H</td>\n",
              "      <td>Director ejecutivo</td>\n",
              "    </tr>\n",
              "  </tbody>\n",
              "</table>\n",
              "</div>\n",
              "      <button class=\"colab-df-convert\" onclick=\"convertToInteractive('df-ff52a0e0-18f1-4cb1-bc1c-7971b816bb57')\"\n",
              "              title=\"Convert this dataframe to an interactive table.\"\n",
              "              style=\"display:none;\">\n",
              "        \n",
              "  <svg xmlns=\"http://www.w3.org/2000/svg\" height=\"24px\"viewBox=\"0 0 24 24\"\n",
              "       width=\"24px\">\n",
              "    <path d=\"M0 0h24v24H0V0z\" fill=\"none\"/>\n",
              "    <path d=\"M18.56 5.44l.94 2.06.94-2.06 2.06-.94-2.06-.94-.94-2.06-.94 2.06-2.06.94zm-11 1L8.5 8.5l.94-2.06 2.06-.94-2.06-.94L8.5 2.5l-.94 2.06-2.06.94zm10 10l.94 2.06.94-2.06 2.06-.94-2.06-.94-.94-2.06-.94 2.06-2.06.94z\"/><path d=\"M17.41 7.96l-1.37-1.37c-.4-.4-.92-.59-1.43-.59-.52 0-1.04.2-1.43.59L10.3 9.45l-7.72 7.72c-.78.78-.78 2.05 0 2.83L4 21.41c.39.39.9.59 1.41.59.51 0 1.02-.2 1.41-.59l7.78-7.78 2.81-2.81c.8-.78.8-2.07 0-2.86zM5.41 20L4 18.59l7.72-7.72 1.47 1.35L5.41 20z\"/>\n",
              "  </svg>\n",
              "      </button>\n",
              "      \n",
              "  <style>\n",
              "    .colab-df-container {\n",
              "      display:flex;\n",
              "      flex-wrap:wrap;\n",
              "      gap: 12px;\n",
              "    }\n",
              "\n",
              "    .colab-df-convert {\n",
              "      background-color: #E8F0FE;\n",
              "      border: none;\n",
              "      border-radius: 50%;\n",
              "      cursor: pointer;\n",
              "      display: none;\n",
              "      fill: #1967D2;\n",
              "      height: 32px;\n",
              "      padding: 0 0 0 0;\n",
              "      width: 32px;\n",
              "    }\n",
              "\n",
              "    .colab-df-convert:hover {\n",
              "      background-color: #E2EBFA;\n",
              "      box-shadow: 0px 1px 2px rgba(60, 64, 67, 0.3), 0px 1px 3px 1px rgba(60, 64, 67, 0.15);\n",
              "      fill: #174EA6;\n",
              "    }\n",
              "\n",
              "    [theme=dark] .colab-df-convert {\n",
              "      background-color: #3B4455;\n",
              "      fill: #D2E3FC;\n",
              "    }\n",
              "\n",
              "    [theme=dark] .colab-df-convert:hover {\n",
              "      background-color: #434B5C;\n",
              "      box-shadow: 0px 1px 3px 1px rgba(0, 0, 0, 0.15);\n",
              "      filter: drop-shadow(0px 1px 2px rgba(0, 0, 0, 0.3));\n",
              "      fill: #FFFFFF;\n",
              "    }\n",
              "  </style>\n",
              "\n",
              "      <script>\n",
              "        const buttonEl =\n",
              "          document.querySelector('#df-ff52a0e0-18f1-4cb1-bc1c-7971b816bb57 button.colab-df-convert');\n",
              "        buttonEl.style.display =\n",
              "          google.colab.kernel.accessAllowed ? 'block' : 'none';\n",
              "\n",
              "        async function convertToInteractive(key) {\n",
              "          const element = document.querySelector('#df-ff52a0e0-18f1-4cb1-bc1c-7971b816bb57');\n",
              "          const dataTable =\n",
              "            await google.colab.kernel.invokeFunction('convertToInteractive',\n",
              "                                                     [key], {});\n",
              "          if (!dataTable) return;\n",
              "\n",
              "          const docLinkHtml = 'Like what you see? Visit the ' +\n",
              "            '<a target=\"_blank\" href=https://colab.research.google.com/notebooks/data_table.ipynb>data table notebook</a>'\n",
              "            + ' to learn more about interactive tables.';\n",
              "          element.innerHTML = '';\n",
              "          dataTable['output_type'] = 'display_data';\n",
              "          await google.colab.output.renderOutput(dataTable, element);\n",
              "          const docLink = document.createElement('div');\n",
              "          docLink.innerHTML = docLinkHtml;\n",
              "          element.appendChild(docLink);\n",
              "        }\n",
              "      </script>\n",
              "    </div>\n",
              "  </div>\n",
              "  "
            ]
          },
          "metadata": {},
          "execution_count": 195
        }
      ]
    },
    {
      "cell_type": "code",
      "source": [
        "def eliminar_id(tabla):\n",
        "  lista =tabla()\n",
        "  clear_output()\n",
        "  encontrado = False\n",
        "  id_eliminar = valinum_int(\"Ingresa el ID de la persona que deseas eliminar el registro: \")\n",
        "  for i, diccionario in enumerate(lista):\n",
        "          if diccionario.get(\"ID\") == id_eliminar:\n",
        "              print(f\"Se elimino a la persona con el ID: {id_eliminar}\")\n",
        "              del lista[i]\n",
        "              encontrado = True\n",
        "              print(lista)\n",
        "  if not encontrado:\n",
        "          print(f\"No se encontro ningun registro con el ID {id_eliminar}\")\n"
      ],
      "metadata": {
        "id": "EY6BJSWPrjfc"
      },
      "execution_count": 172,
      "outputs": []
    },
    {
      "cell_type": "code",
      "source": [
        "def eliminar_ap (tabla):\n",
        "    lista =tabla()\n",
        "    clear_output()\n",
        "    dic_encontrado = []\n",
        "    encontrado = False\n",
        "    appat_busq = input(\"Ingresa el apellido que buscas: \")\n",
        "    for diccionario in lista:\n",
        "            if diccionario.get(\"Ap.Paterno\") == appat_busq:\n",
        "                dic_encontrado.append(diccionario)\n",
        "                encontrado = True\n",
        "    if encontrado == True:\n",
        "            print(f\"Se encontro registros con el apellido: {appat_busq}\")\n",
        "            salida=pd.DataFrame(dic_encontrado)\n",
        "            print(salida)\n",
        "    if not encontrado:\n",
        "            print(f\"No se encontro ningun registro con el apellido {appat_busq}\")"
      ],
      "metadata": {
        "colab": {
          "base_uri": "https://localhost:8080/",
          "height": 0
        },
        "id": "6iCpfUbSwyGW",
        "outputId": "a17e32b6-6645-4c31-e78c-53e744520c6c"
      },
      "execution_count": 190,
      "outputs": [
        {
          "output_type": "stream",
          "name": "stdout",
          "text": [
            "Ingresa el apellido que buscas: Arredondo\n",
            "Se encontro registros con el apellido: Arredondo\n",
            "       ID Nombre Ap.Paterno Ap.Materno  Edad Sexo               Puesto\n",
            "0  569874  Jorge  Arredondo  Kardashin    18    H  Director financiero\n",
            "1  569874  Jorge  Arredondo  Kardashin    18    H  Director financiero\n"
          ]
        }
      ]
    },
    {
      "cell_type": "code",
      "source": [
        "def generar_archivo(tabla):\n",
        "    clear_output()\n",
        "    nombre_archivo = input(\"Ingresa el nombre con el que deseas guardar el archivo: \")\n",
        "    data = pd.DataFrame(tabla)\n",
        "    data.to_excel(f'/content/drive/MyDrive/ColabNotebooks/IAAU_PY_ACT12/.xlsx', index=False)\n",
        "    data.to_csv(f'/content/drive/MyDrive/ColabNotebooks/IAAU_PY_ACT12/.csv', index=False)\n",
        "    data.to_markdown(f'/content/drive/MyDrive/ColabNotebooks/IAAU_PY_ACT122/.md', index=False)\n"
      ],
      "metadata": {
        "id": "7jvWj55MxFle"
      },
      "execution_count": 184,
      "outputs": []
    },
    {
      "cell_type": "code",
      "source": [
        "def cargar_archivo():\n",
        "    clear_output()\n",
        "    path = \"/content/drive/MyDrive/ColabNotebooks/\"\n",
        "    with open(path, \"r\") as f:\n",
        "        contenido = f.read()\n",
        "    print(\"SE CARGO EL ARCHIVO CORRECTAMENTE\")\n",
        "    return contenido"
      ],
      "metadata": {
        "id": "KmyeyKIg5LF5"
      },
      "execution_count": 185,
      "outputs": []
    },
    {
      "cell_type": "code",
      "source": [
        "def ayuda (contenido):\n",
        "  clear_output()\n",
        "  print(\"CONTENIDO DEL ARCHIVO: \")\n",
        "  print(contenido)"
      ],
      "metadata": {
        "id": "M6QYE0lO5OnO"
      },
      "execution_count": 188,
      "outputs": []
    },
    {
      "cell_type": "code",
      "source": [
        "\n"
      ],
      "metadata": {
        "colab": {
          "base_uri": "https://localhost:8080/",
          "height": 183
        },
        "id": "2SMgrlcG82bW",
        "outputId": "1933370e-9f3b-46a4-ebe4-05f95a8164b8"
      },
      "execution_count": 189,
      "outputs": [
        {
          "output_type": "error",
          "ename": "TypeError",
          "evalue": "ignored",
          "traceback": [
            "\u001b[0;31m---------------------------------------------------------------------------\u001b[0m",
            "\u001b[0;31mTypeError\u001b[0m                                 Traceback (most recent call last)",
            "\u001b[0;32m<ipython-input-189-0add59c8e03a>\u001b[0m in \u001b[0;36m<cell line: 1>\u001b[0;34m()\u001b[0m\n\u001b[0;32m----> 1\u001b[0;31m \u001b[0mcontenido\u001b[0m \u001b[0;34m=\u001b[0m\u001b[0mayuda\u001b[0m\u001b[0;34m(\u001b[0m\u001b[0;34m)\u001b[0m\u001b[0;34m\u001b[0m\u001b[0;34m\u001b[0m\u001b[0m\n\u001b[0m\u001b[1;32m      2\u001b[0m \u001b[0mprint\u001b[0m\u001b[0;34m(\u001b[0m\u001b[0mcontenido\u001b[0m\u001b[0;34m)\u001b[0m\u001b[0;34m\u001b[0m\u001b[0;34m\u001b[0m\u001b[0m\n",
            "\u001b[0;31mTypeError\u001b[0m: ayuda() missing 1 required positional argument: 'contenido'"
          ]
        }
      ]
    }
  ]
}
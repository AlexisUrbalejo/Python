{
  "nbformat": 4,
  "nbformat_minor": 0,
  "metadata": {
    "colab": {
      "provenance": [],
      "toc_visible": true,
      "authorship_tag": "ABX9TyMIVZV8ubmaLgX/rOTG/Ip0",
      "include_colab_link": true
    },
    "kernelspec": {
      "name": "python3",
      "display_name": "Python 3"
    },
    "language_info": {
      "name": "python"
    }
  },
  "cells": [
    {
      "cell_type": "markdown",
      "metadata": {
        "id": "view-in-github",
        "colab_type": "text"
      },
      "source": [
        "<a href=\"https://colab.research.google.com/github/AlexisUrbalejo/Python/blob/main/IAAU_PY_ACT2.ipynb\" target=\"_parent\"><img src=\"https://colab.research.google.com/assets/colab-badge.svg\" alt=\"Open In Colab\"/></a>"
      ]
    },
    {
      "cell_type": "markdown",
      "source": [
        "#1.- Programa en Python que lea 2 números enteros, usar una condición y analizar los dos números y desplegar cual de los números es el mayor. 1"
      ],
      "metadata": {
        "id": "Zc-MzLlIaFO8"
      }
    },
    {
      "cell_type": "code",
      "execution_count": 2,
      "metadata": {
        "id": "poe7H0rCZYSq",
        "colab": {
          "base_uri": "https://localhost:8080/"
        },
        "outputId": "4e31189e-1bf9-47c9-e288-47af202f8b0c"
      },
      "outputs": [
        {
          "output_type": "stream",
          "name": "stdout",
          "text": [
            "Ingresa el primer numero: 5\n",
            "Ingresa el segundo numero: 6\n",
            "El numero dos es el mayor\n"
          ]
        }
      ],
      "source": [
        "num1=float(input(\"Ingresa el primer numero: \"))\n",
        "num2=float(input(\"Ingresa el segundo numero: \"))\n",
        "if num1>num2:\n",
        "    print(\"El numero uno es el mayor\")\n",
        "if num2>num1:\n",
        "    print(\"El numero dos es el mayor\")"
      ]
    },
    {
      "cell_type": "markdown",
      "source": [
        "#2.- Programa en PythonAlgoritmo que lea 4 calificaciones de un alumno, calcular y desplegar el promedio acompañado de la leyenda \"APROBADO\" o \"REPROBADO\""
      ],
      "metadata": {
        "id": "dLwt8cU7UFhx"
      }
    },
    {
      "cell_type": "code",
      "source": [
        "cal1=float(input(\"Ingresa la primer calificacion: \"))\n",
        "cal2=float(input(\"Ingresa la segunda calificacion: \"))\n",
        "cal3=float(input(\"Ingresa la tercer calificacion: \"))\n",
        "cal4=float(input(\"Ingresa la cuarta calificacion: \"))\n",
        "prom=(cal1+cal2+cal3+cal3)/4\n",
        "if prom>=60:\n",
        "    print(f\"Tu promedio fue de: {prom} \")\n",
        "    print(\"Has APROBADO\")\n",
        "if prom<60:\n",
        "    print(f\"Tu promedio fue de: {prom} \")\n",
        "    print(\"Has REPROBADO\")\n"
      ],
      "metadata": {
        "colab": {
          "base_uri": "https://localhost:8080/"
        },
        "id": "YeB7c-_0USIW",
        "outputId": "a7c69dc8-4de7-4435-fcae-994a039094a4"
      },
      "execution_count": 7,
      "outputs": [
        {
          "output_type": "stream",
          "name": "stdout",
          "text": [
            "Ingresa la primer calificacion: 59\n",
            "Ingresa la segunda calificacion: 59\n",
            "Ingresa la tercer calificacion: 59\n",
            "Ingresa la cuarta calificacion: 59\n",
            "Tu promedio fue de: 59.0 \n",
            "Has REPROBADO\n"
          ]
        }
      ]
    },
    {
      "cell_type": "markdown",
      "source": [
        "#3.- Programa en PythonAlgoritmo que a través de opciones (1.- HOMBRE 2.- MUJER ) preguntar al usuario cual es su sexo y desplegar la leyenda “HOMBRE ”, “MUJER”"
      ],
      "metadata": {
        "id": "-qjGyeqXWSQv"
      }
    },
    {
      "cell_type": "code",
      "source": [
        "print(\"Ingresa el sexo con el que te identificas (1 o 2)\")\n",
        "sexo=input(\"1 HOMBRE  2 MUJER  \")\n",
        "if sexo == \"1\":\n",
        "    print(\"Usted se identifica como HOMBRE\")\n",
        "if sexo == \"2\":\n",
        "    print(\"Usted se identifica como MUJER\")\n"
      ],
      "metadata": {
        "colab": {
          "base_uri": "https://localhost:8080/"
        },
        "id": "vfPlx67nWXIc",
        "outputId": "267f1a36-b9db-4713-e383-2fa8a213afee"
      },
      "execution_count": 11,
      "outputs": [
        {
          "output_type": "stream",
          "name": "stdout",
          "text": [
            "Ingresa el sexo con el que te identificas (1 o 2)\n",
            "1 HOMBRE  2 MUJER  2\n",
            "Usted se identifica como MUJER\n"
          ]
        }
      ]
    },
    {
      "cell_type": "markdown",
      "source": [
        "# 4.- Programa en Python que lea un número entero, y desplegar si el número es “PAR” o “IMPAR”"
      ],
      "metadata": {
        "id": "g5T-TFkHa_ZC"
      }
    },
    {
      "cell_type": "code",
      "source": [
        "num =int(input(\"Ingresa un numero entero: \"))\n",
        "if (num%2) == 0:\n",
        "    print(\"El numero es PAR\")\n",
        "if (num%2) == 1:\n",
        "    print(\"El numero es IMPAR\")"
      ],
      "metadata": {
        "colab": {
          "base_uri": "https://localhost:8080/"
        },
        "id": "3ezduqmRbGZg",
        "outputId": "87ec051a-ea89-4d8b-c54a-3258a3ea5a55"
      },
      "execution_count": 37,
      "outputs": [
        {
          "output_type": "stream",
          "name": "stdout",
          "text": [
            "Ingresa un numero entero: 6\n",
            "El numero es PAR\n"
          ]
        }
      ]
    },
    {
      "cell_type": "markdown",
      "source": [
        "#5.- Programa en Python que lea 2 números enteros, usar una condición y analizar los dos números y desplegar cual de los números es el mayor."
      ],
      "metadata": {
        "id": "qtzzweCCh0I6"
      }
    },
    {
      "cell_type": "code",
      "source": [
        "num1=float(input(\"Ingresa el primer numero: \"))\n",
        "num2=float(input(\"Ingresa el segundo numero: \"))\n",
        "if num1>num2:\n",
        "    print(\"El numero uno es el mayor\")\n",
        "else:\n",
        "    print(\"El numero dos es el mayor\")"
      ],
      "metadata": {
        "colab": {
          "base_uri": "https://localhost:8080/"
        },
        "id": "pKNJlaSlh7Ww",
        "outputId": "391c52ba-b35a-4cf3-89c5-82d5ed1f485b"
      },
      "execution_count": 29,
      "outputs": [
        {
          "output_type": "stream",
          "name": "stdout",
          "text": [
            "Ingresa el primer numero: 10\n",
            "Ingresa el segundo numero: 9\n",
            "El numero uno es el mayor\n"
          ]
        }
      ]
    },
    {
      "cell_type": "markdown",
      "source": [
        "# 6.- Programa en Python que lea 4 calificaciones de un alumno, calcular y desplegar el promedio acompañado de la leyenda APROBADO o REPROBADO"
      ],
      "metadata": {
        "id": "M-B80epckNQG"
      }
    },
    {
      "cell_type": "code",
      "source": [
        "cal1=float(input(\"Ingresa la primer calificacion: \"))\n",
        "cal2=float(input(\"Ingresa la segunda calificacion: \"))\n",
        "cal3=float(input(\"Ingresa la tercer calificacion: \"))\n",
        "cal4=float(input(\"Ingresa la cuarta calificacion: \"))\n",
        "prom=(cal1+cal2+cal3+cal3)/4\n",
        "if prom>=60:\n",
        "    print(f\"Tu promedio fue de: {prom} \")\n",
        "    print(\"Has APROBADO\")\n",
        "else:\n",
        "    print(f\"Tu promedio fue de: {prom} \")\n",
        "    print(\"Has REPROBADO\")"
      ],
      "metadata": {
        "colab": {
          "base_uri": "https://localhost:8080/"
        },
        "id": "C3yDt5jOkebx",
        "outputId": "f1376cff-5fb3-450e-ff3f-e2c9b5a0f822"
      },
      "execution_count": 31,
      "outputs": [
        {
          "output_type": "stream",
          "name": "stdout",
          "text": [
            "Ingresa la primer calificacion: 85\n",
            "Ingresa la segunda calificacion: 70\n",
            "Ingresa la tercer calificacion: 60\n",
            "Ingresa la cuarta calificacion: 90\n",
            "Tu promedio fue de: 68.75 \n",
            "Has APROBADO\n"
          ]
        }
      ]
    },
    {
      "cell_type": "markdown",
      "source": [
        "#7.- Programa en Python que a través de opciones (1.- HOMBRE 2.- MUJER ) preguntar al usuario cual es su sexo y desplegar la leyenda “HOMBRE ”, “MUJER”"
      ],
      "metadata": {
        "id": "8J5Z5wMglQEk"
      }
    },
    {
      "cell_type": "code",
      "source": [
        "print(\"Ingresa el sexo con el que te identificas (1 o 2)\")\n",
        "sexo=input(\"1 HOMBRE  2 MUJER  \")\n",
        "if sexo == \"1\":\n",
        "    print(\"Usted se identifica como HOMBRE\")\n",
        "else:\n",
        "    print(\"Usted se identifica como MUJER\")"
      ],
      "metadata": {
        "colab": {
          "base_uri": "https://localhost:8080/"
        },
        "id": "fWydmjWBlYG8",
        "outputId": "f631d09d-a041-467f-c939-7995c66025aa"
      },
      "execution_count": 35,
      "outputs": [
        {
          "output_type": "stream",
          "name": "stdout",
          "text": [
            "Ingresa el sexo con el que te identificas (1 o 2)\n",
            "1 HOMBRE  2 MUJER  3\n",
            "Usted se identifica como MUJER\n"
          ]
        }
      ]
    },
    {
      "cell_type": "markdown",
      "source": [
        "#8.- Programa en Python que lea un número entero, y desplegar si el número es “PAR” o “IMPAR”\n",
        "\n"
      ],
      "metadata": {
        "id": "34hWuRFIlaPh"
      }
    },
    {
      "cell_type": "code",
      "source": [
        "num =int(input(\"Ingresa un numero entero: \"))\n",
        "if (num%2) == 0:\n",
        "    print(\"El numero es PAR\")\n",
        "else:\n",
        "    print(\"El numero es IMPAR\")"
      ],
      "metadata": {
        "colab": {
          "base_uri": "https://localhost:8080/"
        },
        "id": "3dsN6b7DljEN",
        "outputId": "1a97da42-e046-461c-deec-ca73aebea053"
      },
      "execution_count": 39,
      "outputs": [
        {
          "output_type": "stream",
          "name": "stdout",
          "text": [
            "Ingresa un numero entero: 21\n",
            "El numero es IMPAR\n"
          ]
        }
      ]
    }
  ]
}
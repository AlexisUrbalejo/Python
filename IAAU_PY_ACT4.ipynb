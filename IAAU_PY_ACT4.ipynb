{
  "nbformat": 4,
  "nbformat_minor": 0,
  "metadata": {
    "colab": {
      "provenance": [],
      "authorship_tag": "ABX9TyNQvkDHdB4Ibmcn1GCXnQ21",
      "include_colab_link": true
    },
    "kernelspec": {
      "name": "python3",
      "display_name": "Python 3"
    },
    "language_info": {
      "name": "python"
    }
  },
  "cells": [
    {
      "cell_type": "markdown",
      "metadata": {
        "id": "view-in-github",
        "colab_type": "text"
      },
      "source": [
        "<a href=\"https://colab.research.google.com/github/AlexisUrbalejo/Python/blob/main/IAAU_PY_ACT4.ipynb\" target=\"_parent\"><img src=\"https://colab.research.google.com/assets/colab-badge.svg\" alt=\"Open In Colab\"/></a>"
      ]
    },
    {
      "cell_type": "markdown",
      "source": [
        "1.- Programa en python   que lea 3 calificaciones calcule el promedio del alumno y desplegar: \n",
        "\n",
        "Si prom < 30 Repetir \n",
        "\n",
        "Si prom >=30 y prom <60 extraordinario \n",
        "\n",
        "Si prom >=60 y prom <70 suficiente \n",
        "\n",
        "Si prom >=70 y prom <80 Regular \n",
        "\n",
        "Si prom >=80 y prom <90 bien \n",
        "\n",
        "Si prom >=90 y prom <98 muy bien \n",
        "\n",
        "Si prom >=98 y prom <=100 excelente \n",
        "\n",
        "Si prom >100 Error en promedio \n",
        "\n",
        "Realizar el algoritmo optimizado"
      ],
      "metadata": {
        "id": "VFydlhXQNE5O"
      }
    },
    {
      "cell_type": "code",
      "source": [
        "try:\n",
        "    cal1=float(input(\"Ingresa la primer calificacion: \"))\n",
        "    cal2=float(input(\"Ingresa la segunda calificacion: \"))\n",
        "    cal3=float(input(\"Ingresa la tercer calificacion: \"))\n",
        "\n",
        "    prom=(cal1+cal2+cal3)/3\n",
        "    print(f\"Tu promedio es de: {prom}\")\n",
        "\n",
        "    if prom>=80:\n",
        "      if prom>=98:\n",
        "        if prom>100:\n",
        "            print (\"Error en el promedio\")\n",
        "        else:\n",
        "            print(\"Excelente\")\n",
        "      else:\n",
        "          if prom>=90:\n",
        "            print(\"Muy bien\")\n",
        "          else:\n",
        "            print(\"Bien\")\n",
        "    else:\n",
        "      if prom>=60:\n",
        "        if prom>=70:\n",
        "          print(\"Regular\")\n",
        "        else:\n",
        "          print(\"Suficiente\")\n",
        "      else:\n",
        "        if prom>=30:\n",
        "          print(\"Extraordinario\")\n",
        "        else:\n",
        "          print(\"Repetir\")\n",
        "except:\n",
        "    print(\"Error, tienes que ingresa un numero\")"
      ],
      "metadata": {
        "colab": {
          "base_uri": "https://localhost:8080/"
        },
        "id": "Qq19B38k_BJe",
        "outputId": "60a0c37e-18b6-4d3f-d7c8-d8c862b69abd"
      },
      "execution_count": null,
      "outputs": [
        {
          "output_type": "stream",
          "name": "stdout",
          "text": [
            "Ingresa la primer calificacion: ñ\n",
            "Error, tienes que ingresa un numero\n"
          ]
        }
      ]
    },
    {
      "cell_type": "markdown",
      "source": [
        "2.- Programa en Python que sirva para calcular el salario semanal de un trabajador donde se obtiene como dato de entrada las horas semanales trabajadas, el salario por hora. \n",
        "\n",
        "El programa deberá calcular el salario normal, salario extra y salario total, considerando lo siguiente: \n",
        "\n",
        "Jornada Normal de 40 horas. \n",
        "El salario normal se considera las horas trabajadas menores o igual a la jornada normal\n",
        "Salario extra se considera las horas trabajadas mayores a la jornada normal y se pagan dobles las primeras 9 y triples a partir de la décima hora extra \n",
        "\n",
        "\n",
        "Nota: Desplegar todos los datos (Salario x hora, Horas Trabajadas, Salario normal, Salario extra y Salario Total)\n",
        "\n"
      ],
      "metadata": {
        "id": "hkr6tKiuAr0E"
      }
    },
    {
      "cell_type": "code",
      "source": [
        "try:\n",
        "    horas = int(input(\"Ingresa las horas que trabajaste en la semana: \"))\n",
        "    salario_hora = float(input(\"Ingresa tu salario por hora: \"))\n",
        "    if horas > 40:\n",
        "        if horas > 49:\n",
        "            salario_norm =  (salario_hora * 40)\n",
        "            salario_ext = ((salario_hora * 2)*9) + (salario_hora * 3 ) * (horas - 49)\n",
        "        else:\n",
        "            salario_norm = (salario_hora * 40)\n",
        "            salario_ext = ((salario_hora * 2) * (horas-40))\n",
        "    else:\n",
        "        salario_norm = (salario_hora * horas)\n",
        "        salario_ext = 0\n",
        "    salario_total = salario_norm + salario_ext\n",
        "    print(f\"Salario por hora: {salario_hora}\")\n",
        "    print(f\"Horas trabajas: {horas}\")\n",
        "    print(f\"Salario normal: {salario_norm}\")\n",
        "    print(f\"Salario extra: {salario_ext}\")\n",
        "    print(f\"Salario total: {salario_total}\")\n",
        "except: \n",
        "    print(\"Error, tienes que ingresar un numero\")"
      ],
      "metadata": {
        "colab": {
          "base_uri": "https://localhost:8080/"
        },
        "id": "sNa6QTMTAtbs",
        "outputId": "9dad7d82-98ed-478f-cc6a-5cda80b8cd33"
      },
      "execution_count": null,
      "outputs": [
        {
          "output_type": "stream",
          "name": "stdout",
          "text": [
            "Ingresa las horas que trabajaste en la semana: 40\n",
            "Ingresa tu salario por hora: ñ\n",
            "Error, tienes que ingresa un numero\n"
          ]
        }
      ]
    },
    {
      "cell_type": "markdown",
      "source": [
        "3.- Programa en Python que sirva para calcular el Total a pagar por consumo de agua, donde el dato de entrada son los M3 de agua consumidos, Tomar en cuenta que se cobra escalonada de la Siguiente manera: \n",
        "\n",
        "Rango1: 0 al 4 M3 $50 x facturación sin importar cuánto consumió en este rango \n",
        "\n",
        "Rango2: 5 a 15 M3 $8.00 x M3 \n",
        "\n",
        "Rango3: 16 a 50 M3 $10.00 x M3 \n",
        "\n",
        "Rango4: 51 M3 en adelante $11.00 x M3 \n",
        "\n",
        "Nota: Desplegar SubTotal, Iva(16%), y Total a pagar.\n",
        "\n",
        "\n",
        "\n"
      ],
      "metadata": {
        "id": "ZOSjE2u4Bgh9"
      }
    },
    {
      "cell_type": "code",
      "source": [
        "try:\n",
        "    m3 = float(input(\"Ingresa los M3 de agua consumidos: \"))\n",
        "\n",
        "    if m3 >=16:\n",
        "        if m3 >50:\n",
        "            extra= (m3-50)\n",
        "            subtotal =(50) + (8*11) + (35*10) + (extra*11)\n",
        "        else:\n",
        "            extra = m3-15\n",
        "            subtotal = (50) + (8*11) + (extra*10)\n",
        "    else:\n",
        "        if m3 >= 5:\n",
        "          extra = m3 - 4\n",
        "          subtotal = (50) + (extra*8)\n",
        "        else:\n",
        "            subtotal =50\n",
        "    iva = subtotal * 0.16\n",
        "    total = subtotal + iva\n",
        "    print(f\"El subtotal es de: {subtotal} pesos\")\n",
        "    print(f\"El iva es de: {iva} pesos\")\n",
        "    print(f\"El total es de: {total} pesos\")\n",
        "except: \n",
        "  print(\"Error, tienes que ingresar un numero\")"
      ],
      "metadata": {
        "colab": {
          "base_uri": "https://localhost:8080/"
        },
        "id": "zhajolXiBve7",
        "outputId": "11236137-dd72-4634-de0a-b106ff625646"
      },
      "execution_count": null,
      "outputs": [
        {
          "output_type": "stream",
          "name": "stdout",
          "text": [
            "Ingresa los M3 de agua consumidos: ñ\n",
            "Error, tienes que ingresar un numero\n"
          ]
        }
      ]
    },
    {
      "cell_type": "markdown",
      "source": [
        "4- En la materia de Metodología de la programación se aplican 5 exámenes, calcular el promedio final de la materia donde la calificación menor de los exámenes se anula y el promedio se calcula en base a 4 exámenes.\n",
        "\n",
        "Desplegar el promedio final. y cual es la mas baja que se elimino."
      ],
      "metadata": {
        "id": "GiCCzsUfB9GE"
      }
    },
    {
      "cell_type": "code",
      "source": [
        "try:\n",
        "    exa1 = float(input(\"Ingresa la calificacion del primer examen: \"))\n",
        "    exa2 = float(input(\"Ingresa la calificacion del segundo examen: \"))\n",
        "    exa3 = float(input(\"Ingresa la calificacion del tercer examen: \"))\n",
        "    exa4 = float(input(\"Ingresa la calificacion del cuarto examen: \"))\n",
        "    exa5 = float(input(\"Ingresa la calificacion del quinto examen: \"))\n",
        "\n",
        "    menor = exa1\n",
        "    if exa2 < menor:\n",
        "        menor = exa2\n",
        "    if exa3 < menor:\n",
        "        menor = exa3\n",
        "    if exa4 < menor:\n",
        "        menor = exa4\n",
        "    if exa5 < menor:\n",
        "        menor = exa5\n",
        "    prom = (exa1 + exa2 + exa3 + exa4 + exa5 - menor)/4\n",
        "    print(f\"El promedio es de: {prom}\")\n",
        "except:\n",
        "    print(\"Error, tienes que ingresar un numero\")"
      ],
      "metadata": {
        "colab": {
          "base_uri": "https://localhost:8080/"
        },
        "id": "Nc8A_VkrCCGx",
        "outputId": "44e1e3dc-40db-4c0e-882d-fdf0bbf6cb55"
      },
      "execution_count": null,
      "outputs": [
        {
          "output_type": "stream",
          "name": "stdout",
          "text": [
            "Ingresa la calificacion del primer examen: ñ\n",
            "Error, tienes que ingresar un numero\n"
          ]
        }
      ]
    },
    {
      "cell_type": "markdown",
      "source": [
        "\n",
        "5.- Programa en Python que sirva para el juego del CHINCHAMPU (Piedra, Papel, Tijera) para 1 jugador y la computadora"
      ],
      "metadata": {
        "id": "Me_HmG7QCbtr"
      }
    },
    {
      "cell_type": "code",
      "source": [
        "try:\n",
        "    import random \n",
        "    print(\"1 Piedra\")\n",
        "    print(\"2 Papel\")\n",
        "    print(\"3 Tijera\") \n",
        "    jugador = int(input(\"Elige la opcion deseada (1 2 o 3): \"))\n",
        "    compu = random.randint(1, 3)\n",
        "    if compu == 1:\n",
        "        print(\"La computadora ha elegido PIEDRA\")\n",
        "    else:\n",
        "        if compu == 2:\n",
        "          print(\"La computadora ha elegido PAPEL\")\n",
        "        else:\n",
        "          print(\"La computadora ha elegido TIJERAS\")\n",
        "\n",
        "    if jugador == 1:\n",
        "      if compu == 1:\n",
        "          print(\"Empate\")\n",
        "      else:\n",
        "        if compu == 2:\n",
        "            print(\"Perdiste\")\n",
        "        else:\n",
        "            print(\"Ganaste\")\n",
        "    else:\n",
        "      if jugador == 2:\n",
        "        if compu == 1:\n",
        "            print(\"Ganaste\")\n",
        "        else:\n",
        "          if compu == 2:\n",
        "              print(\"Empate\")\n",
        "          else:\n",
        "              print(\"Perdiste\")\n",
        "      else:\n",
        "        if jugador == 3:\n",
        "          if compu == 1:\n",
        "              print(\" Perdiste\")\n",
        "          else:\n",
        "              if compu == 2:\n",
        "                print(\"Ganaste\")\n",
        "              else:\n",
        "                print(\"Empate\")\n",
        "        else:\n",
        "          print(\"Ingresa uno de los valores indicados\")\n",
        "except:\n",
        "  print(\"Error, tienes que ingresar una de las opciones (1, 2 o 3)\")"
      ],
      "metadata": {
        "colab": {
          "base_uri": "https://localhost:8080/"
        },
        "id": "xyubmTQPCi-8",
        "outputId": "08ea52e2-a570-4112-fa6a-ea3743b52f60"
      },
      "execution_count": null,
      "outputs": [
        {
          "output_type": "stream",
          "name": "stdout",
          "text": [
            "1 Piedra\n",
            "2 Papel\n",
            "3 Tijera\n",
            "Elige la opcion deseada (1 2 o 3): ñ\n",
            "Error, tienes que ingresar una de las opciones (1, 2 o 3\n"
          ]
        }
      ]
    },
    {
      "cell_type": "markdown",
      "source": [
        "6.- Programa en Python que lea 4 números enteros desplegar cuales el menor, cual es mayor"
      ],
      "metadata": {
        "id": "XSEWfUglDdO7"
      }
    },
    {
      "cell_type": "code",
      "source": [
        "try:\n",
        "    num1 = float(input(\"Ingresa el primer numero: \"))\n",
        "    num2 = float(input(\"Ingresa el segundo numero: \"))\n",
        "    num3 = float(input(\"Ingresa el tercer numero: \"))\n",
        "    num4 = float(input(\"Ingresa el cuarto numero: \"))\n",
        "    print(\"EL numero menor es:\", min(num1, num2, num3, num4))\n",
        "    print(\"El numero mayor es: \", max(num1, num2 ,num3, num4))  \n",
        "except:\n",
        "  print(\"Error, tienes que ingresar un numero\")"
      ],
      "metadata": {
        "colab": {
          "base_uri": "https://localhost:8080/"
        },
        "id": "cplqhDnEDhOy",
        "outputId": "ee27cdd1-c1b7-41f0-a5f1-ab60c43ad4bb"
      },
      "execution_count": null,
      "outputs": [
        {
          "output_type": "stream",
          "name": "stdout",
          "text": [
            "Ingresa el primer numero: ñ\n",
            "Error, tienes que ingresar un numero\n"
          ]
        }
      ]
    },
    {
      "cell_type": "markdown",
      "source": [
        "7.- Programa en Python que sirva para calcular el área de un triangulo, los datos de entrada deben ser forzosamente de tipo real"
      ],
      "metadata": {
        "id": "L-BghrXiGRDK"
      }
    },
    {
      "cell_type": "code",
      "source": [
        "try:\n",
        "    base = int(input(\"Ingresa el valor de la base: \"))\n",
        "    altura = int(input(\"Ingresa el valor de la altura: \"))\n",
        "    print(\"El valor del area es de: \",(base*altura)/2)\n",
        "except ValueError:\n",
        "  print(\"Error, tienes que ingresar un valor real\")\n",
        "\n",
        "\n"
      ],
      "metadata": {
        "colab": {
          "base_uri": "https://localhost:8080/"
        },
        "id": "R_juRUB6GUNR",
        "outputId": "b44e5bfb-15c1-4a1b-f5c6-2dc8f320874d"
      },
      "execution_count": null,
      "outputs": [
        {
          "output_type": "stream",
          "name": "stdout",
          "text": [
            "Ingresa el valor de la base: -2\n",
            "Ingresa el valor de la altura: 0.5\n",
            "Error, tienes que ingresar un valor real\n"
          ]
        }
      ]
    },
    {
      "cell_type": "markdown",
      "source": [
        "8.- Programa en Python que sirva para calcular el área de un circulo"
      ],
      "metadata": {
        "id": "EYDQEOLyJrXR"
      }
    },
    {
      "cell_type": "code",
      "source": [
        "try:\n",
        "    radio = float(input(\"Ingresa el valor del radio: \"))\n",
        "    pi=3.1416\n",
        "    area = pi*pow(radio,2)\n",
        "    print(f\"El valor de area es de: {area}\")\n",
        "except:\n",
        "  print(\"Error, tienes que ingresar un numero\")"
      ],
      "metadata": {
        "colab": {
          "base_uri": "https://localhost:8080/"
        },
        "id": "r24_pAlaZi3C",
        "outputId": "6e498785-cc88-40f9-85f9-9b48b54ce38a"
      },
      "execution_count": null,
      "outputs": [
        {
          "output_type": "stream",
          "name": "stdout",
          "text": [
            "Ingresa el valor del radio: A\n",
            "Error, tienes que ingresar un numero\n"
          ]
        }
      ]
    }
  ]
}
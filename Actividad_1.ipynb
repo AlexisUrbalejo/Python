{
  "nbformat": 4,
  "nbformat_minor": 0,
  "metadata": {
    "colab": {
      "provenance": [],
      "toc_visible": true,
      "authorship_tag": "ABX9TyMHU9K3Ok8Qn+mjlppNa+FZ",
      "include_colab_link": true
    },
    "kernelspec": {
      "name": "python3",
      "display_name": "Python 3"
    },
    "language_info": {
      "name": "python"
    }
  },
  "cells": [
    {
      "cell_type": "markdown",
      "metadata": {
        "id": "view-in-github",
        "colab_type": "text"
      },
      "source": [
        "<a href=\"https://colab.research.google.com/github/AlexisUrbalejo/Python/blob/main/Actividad_1.ipynb\" target=\"_parent\"><img src=\"https://colab.research.google.com/assets/colab-badge.svg\" alt=\"Open In Colab\"/></a>"
      ]
    },
    {
      "cell_type": "markdown",
      "source": [
        "#  Programa en Python Mostrar un mensaje que diga “HOLA MUNDO” en un solo renglón usando 2 print"
      ],
      "metadata": {
        "id": "u3O-Oq7Ks1k2"
      }
    },
    {
      "cell_type": "code",
      "execution_count": 4,
      "metadata": {
        "colab": {
          "base_uri": "https://localhost:8080/"
        },
        "id": "bomsY7fDrxI_",
        "outputId": "daf781fa-9459-436b-a8ab-e13ba5975802"
      },
      "outputs": [
        {
          "output_type": "stream",
          "name": "stdout",
          "text": [
            "Hola Mundo\n"
          ]
        }
      ],
      "source": [
        "print(\"Hola \",end=\"\")\n",
        "print(\"Mundo\")"
      ]
    },
    {
      "cell_type": "markdown",
      "source": [
        "# 2.- Programa en Python que lea 2 números, realizar la suma y desplegar la suma de los 2 números"
      ],
      "metadata": {
        "id": "TGteBMQcutqb"
      }
    },
    {
      "cell_type": "code",
      "source": [
        "num1=float(input(\"Dame la primer numero: \"))\n",
        "num2=float(input(\"Dame el segundo numero: \"))\n",
        "print(f\"La suma es: {num1+num2}\")"
      ],
      "metadata": {
        "colab": {
          "base_uri": "https://localhost:8080/"
        },
        "id": "x3J35WbhvVXj",
        "outputId": "2283b699-fe25-4ada-90eb-b0952511245b"
      },
      "execution_count": 10,
      "outputs": [
        {
          "output_type": "stream",
          "name": "stdout",
          "text": [
            "Dame la primer numero: 3.5\n",
            "Dame el segundo numero: 2.5\n",
            "La suma es: 6.0\n"
          ]
        }
      ]
    },
    {
      "cell_type": "markdown",
      "source": [
        "#3.- Programa en Python que lea 2 números y realice las 4 operaciones básicas\n"
      ],
      "metadata": {
        "id": "c6FbG9hNzJ27"
      }
    },
    {
      "cell_type": "code",
      "source": [
        "num1=float(input(\"Dame la primer numero: \"))\n",
        "num2=float(input(\"Dame el segundo numero: \"))\n",
        "print(f\"El resultado de la multiplicacion es {num1} x {num2}: {num1*num2}\")\n",
        "print(f\"El resultado de la division es {num1} / {num2} : {num1/num2}\")\n",
        "print(f\"El resultado de la suma es {num1} + {num2}: {num1+num2} \")\n",
        "print(f\"El resultado de la resta es {num1} - {num2}: {num1-num2}\")"
      ],
      "metadata": {
        "colab": {
          "base_uri": "https://localhost:8080/"
        },
        "id": "vvD9wHVUzdPM",
        "outputId": "9d25b0cf-c3a8-42c1-d349-0e26e597a039"
      },
      "execution_count": 13,
      "outputs": [
        {
          "output_type": "stream",
          "name": "stdout",
          "text": [
            "Dame la primer numero: 6\n",
            "Dame el segundo numero: 3\n",
            "El resultado de la multiplicacion es 6.0 x 3.0: 18.0\n",
            "El resultado de la division es 6.0 / 3.0 : 2.0\n",
            "El resultado de la suma es 6.0 + 3.0: 9.0 \n",
            "El resultado de la resta es 6.0 - 3.0: 3.0\n"
          ]
        }
      ]
    },
    {
      "cell_type": "markdown",
      "source": [
        "# 4.- Programa en Python Que sirva para calcular el área de un triángulo"
      ],
      "metadata": {
        "id": "p2d_pcxO2udE"
      }
    },
    {
      "cell_type": "code",
      "source": [
        "base=float(input(\"Ingresa el valor de la base: \"))\n",
        "altura=float(input(\"Ingresa el valor de la altura: \"))\n",
        "print(f\"El area del trinagulo es: {(base*altura)/2}\")\n"
      ],
      "metadata": {
        "colab": {
          "base_uri": "https://localhost:8080/"
        },
        "id": "K1N2Mgg722dJ",
        "outputId": "67e4fadc-99ce-4cb8-e94c-e05e916efca7"
      },
      "execution_count": 15,
      "outputs": [
        {
          "output_type": "stream",
          "name": "stdout",
          "text": [
            "Ingresa el valor de la base: 3\n",
            "Ingresa el valor de la altura: 6\n",
            "El area del trinagulo es: 9.0\n"
          ]
        }
      ]
    },
    {
      "cell_type": "markdown",
      "source": [
        "# 5.- Programa en Python que lea una medida en centímetros y desplegar la misma medida pero convertida en pies y pulgadas"
      ],
      "metadata": {
        "id": "n-42j7Cf4ahp"
      }
    },
    {
      "cell_type": "code",
      "source": [
        "cm=float(input(\"Ingresa la medida en centimetros: \"))\n",
        "print(f\"La medida en pulgadas es: {cm/2.54} pg\")\n",
        "print(f\"La medida en pies es: {cm*0.0328} ft\")"
      ],
      "metadata": {
        "colab": {
          "base_uri": "https://localhost:8080/"
        },
        "id": "dSvuCCyp4gyJ",
        "outputId": "36a1a9e1-81c5-4fed-8398-0b994a452c4c"
      },
      "execution_count": 18,
      "outputs": [
        {
          "output_type": "stream",
          "name": "stdout",
          "text": [
            "Ingresa la medida en centimetros: 100\n",
            "La medida en pulgadas es: 39.37007874015748 pg\n",
            "La medida en pies es: 3.2800000000000002 ft\n"
          ]
        }
      ]
    },
    {
      "cell_type": "markdown",
      "source": [
        "# 6.- Programa en Python que lea una temperatura en grados centígrados y desplegarla en Grados Fahrenheit y grados kelvin"
      ],
      "metadata": {
        "id": "Otnl1n5Q6NcW"
      }
    },
    {
      "cell_type": "code",
      "source": [
        "centi=float(input(\"Ingresa la temperatura en grados centigrados: \"))\n",
        "print(f\"La temperatura en grados Farenheit es: {centi* (9/5)+32}\")\n",
        "print(f\"La temperatura en grados Kelvin es: {centi+273.15}\")\n"
      ],
      "metadata": {
        "colab": {
          "base_uri": "https://localhost:8080/"
        },
        "id": "nzUfZJvv6ah0",
        "outputId": "daf02a38-4e90-462b-9829-15dcb8e494d0"
      },
      "execution_count": 21,
      "outputs": [
        {
          "output_type": "stream",
          "name": "stdout",
          "text": [
            "Ingresa la temperatura en grados centigrados: 10\n",
            "La temperatura en grados Farenheit es: 50.0\n",
            "La temperatura en grados Kelvin es: 283.15\n"
          ]
        }
      ]
    },
    {
      "cell_type": "markdown",
      "source": [
        "# 7.- Programa en Python que lea 4 calificaciones de un alumno, desplegar el promedio del alumno"
      ],
      "metadata": {
        "id": "aDIvyyWT76OF"
      }
    },
    {
      "cell_type": "code",
      "source": [
        "cal1=float(input(\"Ingresa la primer calificacion: \"))\n",
        "cal2=float(input(\"Ingresa la segunda calificacion: \"))\n",
        "cal3=float(input(\"Ingresa la tercera calificacion: \"))\n",
        "cal4=float(input(\"Ingresa la cuarta calificacion: \"))\n",
        "print(f\"El promedio del alumno es de : {(cal1+cal2+cal3+cal4)/4}\")"
      ],
      "metadata": {
        "colab": {
          "base_uri": "https://localhost:8080/"
        },
        "id": "3NYDg6ts8A0p",
        "outputId": "d3b0742d-f9be-4751-8ab0-83eee07ef6cd"
      },
      "execution_count": 24,
      "outputs": [
        {
          "output_type": "stream",
          "name": "stdout",
          "text": [
            "Ingresa la primer calificacion: 10\n",
            "Ingresa la segunda calificacion: 10\n",
            "Ingresa la tercera calificacion: 10\n",
            "Ingresa la cuarta calificacion: 10\n",
            "El promedio del alumno es de : 10.0\n"
          ]
        }
      ]
    }
  ]
}
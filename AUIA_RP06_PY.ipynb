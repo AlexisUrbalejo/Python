{
  "nbformat": 4,
  "nbformat_minor": 0,
  "metadata": {
    "colab": {
      "provenance": [],
      "authorship_tag": "ABX9TyNKx79BbdRQyFW7f4v3B18h",
      "include_colab_link": true
    },
    "kernelspec": {
      "name": "python3",
      "display_name": "Python 3"
    },
    "language_info": {
      "name": "python"
    }
  },
  "cells": [
    {
      "cell_type": "markdown",
      "metadata": {
        "id": "view-in-github",
        "colab_type": "text"
      },
      "source": [
        "<a href=\"https://colab.research.google.com/github/AlexisUrbalejo/Python/blob/main/AUIA_RP06_PY.ipynb\" target=\"_parent\"><img src=\"https://colab.research.google.com/assets/colab-badge.svg\" alt=\"Open In Colab\"/></a>"
      ]
    },
    {
      "cell_type": "code",
      "source": [
        "import random\n",
        "from IPython.display import clear_output\n"
      ],
      "metadata": {
        "id": "b3FhUAec1u59"
      },
      "execution_count": 31,
      "outputs": []
    },
    {
      "cell_type": "code",
      "execution_count": 60,
      "metadata": {
        "id": "r2KwRYcx0Y1a",
        "colab": {
          "base_uri": "https://localhost:8080/"
        },
        "outputId": "35449001-60c2-4dcd-9ff2-524f5c2808fe"
      },
      "outputs": [
        {
          "output_type": "stream",
          "name": "stdout",
          "text": [
            "Ingresa la cantidad de numeros que deseas leer: 5\n",
            "Ingresa el numero 1: 10\n",
            "Ingresa el numero 2: 20\n",
            "Ingresa el numero 3: 25\n",
            "Ingresa el numero 4: 45\n",
            "Ingresa el numero 5: 54\n",
            "------------------------------------\n",
            "La suma de los numeros es: 154\n",
            "La media de los numeros es: 30.8\n",
            "El numero mayor es: 54 \n",
            "El numero menor es: 10\n"
          ]
        }
      ],
      "source": [
        "#1.- FUNCIÓN QUE LEA n CANTIDAD DE NÚMEROS HASTA QUE EL USUARIO LO DESEE, DESPLEGAR LA SUMA DE LOS NÚMEROS, MEDIA Y VALOR DE LOS NÚMEROS MAYORES Y MENORES.\n",
        "\n",
        "def numeros_usuar(n):\n",
        "    n = int(input(\"Ingresa la cantidad de numeros que deseas leer: \"))\n",
        "    sumanum = 0\n",
        "    nummayor = 0\n",
        "    nummenor =589476\n",
        "    for i in range(n):\n",
        "        num = int(input(f\"Ingresa el numero {i+1}: \"))\n",
        "        sumanum += num\n",
        "        if num > nummayor:\n",
        "            nummayor = num\n",
        "        if num < nummenor:\n",
        "            nummenor = num\n",
        "    print(\"------------------------------------\")\n",
        "    print(f\"La suma de los numeros es: {sumanum}\")\n",
        "    print(f\"La media de los numeros es: {sumanum/(i+1)}\")\n",
        "    print(f\"El numero mayor es: {nummayor} \")\n",
        "    print(f\"El numero menor es: {nummenor}\")\n",
        "\n",
        "\n",
        "numeros_usuar(n)"
      ]
    },
    {
      "cell_type": "code",
      "source": [
        "#2.- FUNCIÓN QUE GENERE 15 NÚMEROS IMPARES ENTRE 10 Y 60 o MÁXIMO DE 25 NÚMEROS. DESPLEGAR LA MEDIA DE LOS PARES Y MEDIA DE IMPARES.\n",
        "def nums():\n",
        "    impar = 1\n",
        "    par = 1\n",
        "    i = 0\n",
        "    sumapar = 0\n",
        "    sumaimpar = 0\n",
        "    while impar <= 15 and i < 25:\n",
        "        num = random.randint(10,60)\n",
        "        print(f\"Numero {i+1}: {num} \", end = \" \")\n",
        "        if num%2 != 0:\n",
        "            print(\"IMPAR\")\n",
        "            impar += 1\n",
        "            sumaimpar += num\n",
        "        else:\n",
        "            print(\"PAR\")\n",
        "            par += 1\n",
        "            sumapar += num\n",
        "        i +=1\n",
        "    print(\"---------------------------------------\")\n",
        "    print(f\"La media de los pares es: {round(sumapar/par,2)}\")\n",
        "    print(f\"La media de los impares es: {round(sumaimpar/impar,2)}\")\n",
        "\n",
        "nums()"
      ],
      "metadata": {
        "id": "DM-iZCl_0beG",
        "colab": {
          "base_uri": "https://localhost:8080/"
        },
        "outputId": "11c649d4-9472-462f-d270-6f4993ea1da0"
      },
      "execution_count": 8,
      "outputs": [
        {
          "output_type": "stream",
          "name": "stdout",
          "text": [
            "Numero 1: 17  IMPAR\n",
            "Numero 2: 30  PAR\n",
            "Numero 3: 45  IMPAR\n",
            "Numero 4: 48  PAR\n",
            "Numero 5: 54  PAR\n",
            "Numero 6: 22  PAR\n",
            "Numero 7: 53  IMPAR\n",
            "Numero 8: 12  PAR\n",
            "Numero 9: 32  PAR\n",
            "Numero 10: 42  PAR\n",
            "Numero 11: 31  IMPAR\n",
            "Numero 12: 29  IMPAR\n",
            "Numero 13: 48  PAR\n",
            "Numero 14: 36  PAR\n",
            "Numero 15: 25  IMPAR\n",
            "Numero 16: 37  IMPAR\n",
            "Numero 17: 43  IMPAR\n",
            "Numero 18: 26  PAR\n",
            "Numero 19: 60  PAR\n",
            "Numero 20: 11  IMPAR\n",
            "Numero 21: 17  IMPAR\n",
            "Numero 22: 11  IMPAR\n",
            "Numero 23: 46  PAR\n",
            "Numero 24: 20  PAR\n",
            "Numero 25: 51  IMPAR\n",
            "---------------------------------------\n",
            "La media de los pares es: 34.0\n",
            "La media de los impares es: 28.46\n"
          ]
        }
      ]
    },
    {
      "cell_type": "code",
      "source": [
        "#3.- FUNCIÓN QUE SIRVA PARA LEER UN RANGO DADO POR EL USUARIO. REPETIR ESTA ACCIÓN HASTA QUE EL USUARIO LO DESEE, DESPLEGAR CANTIDAD DE NUMEROS Y PROMEDIO DE LOS NUMEROS..\n",
        "def validar_num(ri,rf,msge =\"DAME UN NUMERO ENTRE \",msgError1=\"NUMERO FUERA DEL RANGO\",msgError2=\"INGRESA UN NUMERO QUE ESTE EN EL RANGO\"):\n",
        "    sumanum = 0\n",
        "    nums = 0\n",
        "    while True:\n",
        "        try:\n",
        "            num = int(input(f\"{msge} {ri} y {rf}: \"))\n",
        "        except:\n",
        "            print (msgError2)\n",
        "            continue\n",
        "        else:\n",
        "            nums +=1\n",
        "            sumanum += num\n",
        "        if num < ri or num > rf:\n",
        "            print(msgError2)\n",
        "            continue\n",
        "        else:\n",
        "            print(\"EL NUMERO ESTA DENTRO DEL RANGO\")\n",
        "            break\n",
        "    print(\"---------------------------------------------\")\n",
        "    print(f\"La cantidad de números es: {nums}\")\n",
        "    print(f\"El promedio de los números es:{sumanum/nums}\")\n",
        "        \n",
        "\n",
        "ri = int(input(\"Ingresa el rango inicial: \"))\n",
        "rf = int(input(\"Ingresa el rango final: \"))\n",
        "validar_num(ri,rf)"
      ],
      "metadata": {
        "id": "BBf3rv0O0cBm",
        "colab": {
          "base_uri": "https://localhost:8080/"
        },
        "outputId": "fb8f5267-c292-4d46-ce22-0cf74e185971"
      },
      "execution_count": 61,
      "outputs": [
        {
          "output_type": "stream",
          "name": "stdout",
          "text": [
            "Ingresa el rango inicial: 5\n",
            "Ingresa el rango final: 20\n",
            "DAME UN NUMERO ENTRE  5 y 20: 16\n",
            "EL NUMERO ESTA DENTRO DEL RANGO\n",
            "---------------------------------------------\n",
            "La cantidad de números es: 1\n",
            "El promedio de los números es:16.0\n"
          ]
        }
      ]
    },
    {
      "cell_type": "code",
      "source": [
        "#4.- FUNCIÓN QUE RECIBA COMO PARÁMETRO LOS VALORES PARA EL ÁREA DE UN TRIANGULO Y RETORNE SU RESULTADO\n",
        "base = int(input(\"Ingresa la base del triangulo: \"))\n",
        "altura = int(input(\"Ingresa la altura del triangulo: \"))\n",
        "def area_triangulo(base,altura):\n",
        "    area = (base * altura) / 2\n",
        "    return area\n",
        "area = area_triangulo(base,altura)\n",
        "print(f\"El area del triangulo es: {area}\")\n",
        "area_triangulo(base,altura)"
      ],
      "metadata": {
        "id": "0Fw7vn8L2JnG",
        "colab": {
          "base_uri": "https://localhost:8080/"
        },
        "outputId": "5a104264-5f6f-4966-f567-c47313928268"
      },
      "execution_count": 62,
      "outputs": [
        {
          "output_type": "stream",
          "name": "stdout",
          "text": [
            "Ingresa la base del triangulo: 10\n",
            "Ingresa la altura del triangulo: 20\n",
            "El area del triangulo es: 100.0\n"
          ]
        },
        {
          "output_type": "execute_result",
          "data": {
            "text/plain": [
              "100.0"
            ]
          },
          "metadata": {},
          "execution_count": 62
        }
      ]
    },
    {
      "cell_type": "code",
      "source": [
        "from IPython.core.interactiveshell import error\n",
        "#5.- FUNCION QUE SIRVA QUE SIRVA PARA EVALUAR EL PROMEDIO DE 3 CALIFICACIONES DADAS, \n",
        "#SI EL USUARIO SU CALIFICACION ES APROBADA MANDAR MSGE QUE DIGA \"felicidades avanzas al siguiente semestre\", SI LA CALIFICACIONE ESTA REPROBADA EL MENSAGE \"repetir materia \" \n",
        "#EL ALUMNO TENDRA UN MAXIMO DE CURSAR 3 VESES LA MATERIA, SI LA REPRUEBA 3 VESES MANDAR MSGE \" lastima estas fuera de la UABC\"\n",
        "def promedio ():\n",
        "  i = 0\n",
        "\n",
        "  while i < 3:\n",
        "      try:\n",
        "       cal1 = int(input(\"Ingresa la primer calificacion: \"))\n",
        "       cal2 = int(input(\"Ingresa la segunda calificacion: \"))\n",
        "       cal3 = int(input(\"Ingresa la tercer calificacion: \"))\n",
        "       prom =  (cal1 + cal2 + cal3)/3\n",
        "       if prom >100:\n",
        "          raise ValueError(\"El número debe estar entre 0 y 100.\")\n",
        "      except ValueError as e:\n",
        "            print(\"Error:\", e)\n",
        "            print(\"-------------------------------\")\n",
        "      else:\n",
        "          print(f\"Tu promedio es de: {prom}\")\n",
        "          if prom >= 60:\n",
        "              print(\"FELICIDADES AVANZAS AL SIGUIENTE SEMESTRE\")\n",
        "              break\n",
        "          else:\n",
        "              print(\"REPETIR MATERIA\")\n",
        "              print(\"------------------------------\")\n",
        "              i += 1\n",
        "        \n",
        "  if i == 3:\n",
        "      print(\"LASTIMA ESTAS FUERA DE LA UABC\")\n",
        "promedio()  \n"
      ],
      "metadata": {
        "id": "yTPjf_KA2Z8u",
        "colab": {
          "base_uri": "https://localhost:8080/"
        },
        "outputId": "b9628d79-455d-418e-ffff-6d49ff9f27cb"
      },
      "execution_count": 63,
      "outputs": [
        {
          "output_type": "stream",
          "name": "stdout",
          "text": [
            "Ingresa la primer calificacion: 10\n",
            "Ingresa la segunda calificacion: 60\n",
            "Ingresa la tercer calificacion: 50\n",
            "Tu promedio es de: 40.0\n",
            "REPETIR MATERIA\n",
            "------------------------------\n",
            "Ingresa la primer calificacion: 60\n",
            "Ingresa la segunda calificacion: 10\n",
            "Ingresa la tercer calificacion: 100\n",
            "Tu promedio es de: 56.666666666666664\n",
            "REPETIR MATERIA\n",
            "------------------------------\n",
            "Ingresa la primer calificacion: 60\n",
            "Ingresa la segunda calificacion: 60\n",
            "Ingresa la tercer calificacion: 70\n",
            "Tu promedio es de: 63.333333333333336\n",
            "FELICIDADES AVANZAS AL SIGUIENTE SEMESTRE\n"
          ]
        }
      ]
    },
    {
      "cell_type": "code",
      "source": [
        "print(\"MENU\")\n",
        "print(\"1- Suma de dos numeros\")\n",
        "print(\"2- Numeros Impares\")\n",
        "print(\"3- Leer Rango\")\n",
        "print(\"4- Area del triangulo\")\n",
        "print(\"5- Promedio de Calificaciones \")\n",
        "op = int(input(\"Ingresa la opcion del programa que deseas ejecutar: \"))\n",
        "clear_output(11)\n",
        "if (op == 1):\n",
        "   \n",
        "    numeros_usuar(n)\n",
        "\n",
        "else:\n",
        "    if (op == 2):\n",
        "      nums()\n",
        "\n",
        "    else:\n",
        "        if(op == 3):\n",
        "          validar_num(ri,rf)\n",
        "        else:\n",
        "            if (op == 4):\n",
        "              area_triangulo()\n",
        "            else:\n",
        "              promedio()\n",
        "         \n",
        "\n",
        "\n"
      ],
      "metadata": {
        "id": "WsJssggVAMwO",
        "colab": {
          "base_uri": "https://localhost:8080/"
        },
        "outputId": "bd339b6e-d001-4968-e13f-5ff4c2bb99e5"
      },
      "execution_count": 66,
      "outputs": [
        {
          "output_type": "stream",
          "name": "stdout",
          "text": [
            "Ingresa la cantidad de numeros que deseas leer: 4\n",
            "Ingresa el numero 1: 1\n",
            "Ingresa el numero 2: 48\n",
            "Ingresa el numero 3: 75\n",
            "Ingresa el numero 4: 95\n",
            "------------------------------------\n",
            "La suma de los numeros es: 219\n",
            "La media de los numeros es: 54.75\n",
            "El numero mayor es: 95 \n",
            "El numero menor es: 1\n"
          ]
        }
      ]
    },
    {
      "cell_type": "code",
      "source": [],
      "metadata": {
        "id": "fC49Xml5VKvW"
      },
      "execution_count": null,
      "outputs": []
    }
  ]
}